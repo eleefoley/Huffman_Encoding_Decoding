{
 "metadata": {
  "name": "",
  "signature": "sha256:e26a5b77f3301d0f42b5727633803a3122a2c94c5b1f36378ebfde798ceeaed5"
 },
 "nbformat": 3,
 "nbformat_minor": 0,
 "worksheets": [
  {
   "cells": [
    {
     "cell_type": "code",
     "collapsed": false,
     "input": [
      "from datetime import datetime\n",
      "from pathlib import Path"
     ],
     "language": "python",
     "metadata": {},
     "outputs": [],
     "prompt_number": 27
    },
    {
     "cell_type": "code",
     "collapsed": false,
     "input": [],
     "language": "python",
     "metadata": {},
     "outputs": []
    },
    {
     "cell_type": "code",
     "collapsed": false,
     "input": [
      "log_filename = datetime.now().strftime(\"%Y%m%d_%H.%M.%S\") + \".txt\"\n",
      "log_filepath = Path(\"../logs/\" + log_filename)\n",
      "log_pathstring = str(log_filepath)"
     ],
     "language": "python",
     "metadata": {},
     "outputs": [],
     "prompt_number": 35
    },
    {
     "cell_type": "code",
     "collapsed": false,
     "input": [
      "with open(log_pathstring, \"a\") as file:\n",
      "    lines = [datetime.now().strftime(\"%Y-%m-%d %H:%M:%S\"),'CS 430 Summer 2020 project, Emma Foley']\n",
      "    file.writelines(lines)"
     ],
     "language": "python",
     "metadata": {},
     "outputs": [],
     "prompt_number": 40
    },
    {
     "cell_type": "code",
     "collapsed": false,
     "input": [
      "def log_message(message, timestamp):\n",
      "    if(timestamp):\n",
      "        lines = [datetime.now().strftime(\"%Y-%m-%d %H:%M:%S\"),'CS 430 Summer 2020 project, Emma Foley']\n",
      "        file.writelines(lines)\n",
      "    else:\n",
      "        file.write(message)"
     ],
     "language": "python",
     "metadata": {},
     "outputs": [],
     "prompt_number": 41
    },
    {
     "cell_type": "code",
     "collapsed": false,
     "input": [
      "log_message('testing')"
     ],
     "language": "python",
     "metadata": {},
     "outputs": []
    }
   ],
   "metadata": {}
  }
 ]
}