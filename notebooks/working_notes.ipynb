{
 "metadata": {
  "kernelspec": {
   "display_name": "Python 3",
   "language": "python",
   "name": "python3"
  },
  "name": "",
  "signature": "sha256:531ab8247dadef67da6e897497d6e617b8a2c7fa200e05136fa1efb800f115a8"
 },
 "nbformat": 3,
 "nbformat_minor": 0,
 "worksheets": [
  {
   "cells": [
    {
     "cell_type": "code",
     "collapsed": false,
     "input": [
      "import random\n",
      "import math\n",
      "import statistics"
     ],
     "language": "python",
     "metadata": {},
     "outputs": [
      {
       "ename": "ImportError",
       "evalue": "No module named statistics",
       "output_type": "pyerr",
       "traceback": [
        "\u001b[0;31m---------------------------------------------------------------------------\u001b[0m\n\u001b[0;31mImportError\u001b[0m                               Traceback (most recent call last)",
        "\u001b[0;32m<ipython-input-6-47e6103cf2e1>\u001b[0m in \u001b[0;36m<module>\u001b[0;34m()\u001b[0m\n\u001b[1;32m      1\u001b[0m \u001b[0;32mimport\u001b[0m \u001b[0mrandom\u001b[0m\u001b[0;34m\u001b[0m\u001b[0m\n\u001b[1;32m      2\u001b[0m \u001b[0;32mimport\u001b[0m \u001b[0mmath\u001b[0m\u001b[0;34m\u001b[0m\u001b[0m\n\u001b[0;32m----> 3\u001b[0;31m \u001b[0;32mimport\u001b[0m \u001b[0mstatistics\u001b[0m\u001b[0;34m\u001b[0m\u001b[0m\n\u001b[0m",
        "\u001b[0;31mImportError\u001b[0m: No module named statistics"
       ]
      }
     ],
     "prompt_number": 6
    },
    {
     "cell_type": "code",
     "collapsed": false,
     "input": [
      "# choose a splitter\n",
      "## keeping it really simple and choosing the middle numberxi\n",
      "\n",
      "if len(unsorted_list) not in (3,5,7):\n",
      "    print(\"Can't use a list of that size\")\n",
      "else:\n",
      "    split = int(math.floor(len(unsorted_list)/2))\n",
      "    s_minus = []\n",
      "    s_plus = []\n",
      "\n",
      "    for i in unsorted_list:\n",
      "        if i < unsorted_list[split]:\n",
      "            s_minus.append(i)\n",
      "        elif i > unsorted_list[split]:\n",
      "            s_plus.append(i)\n",
      "    if len(s_minus) == k - 1:\n",
      "        print(unsorted_list[split])\n",
      "\n",
      "    print(s_minus)\n",
      "    print(s_plus)"
     ],
     "language": "python",
     "metadata": {},
     "outputs": [
      {
       "output_type": "stream",
       "stream": "stdout",
       "text": [
        "2\n",
        "[]\n",
        "[7, 6]\n"
       ]
      }
     ],
     "prompt_number": 29
    },
    {
     "cell_type": "code",
     "collapsed": false,
     "input": [
      "def Select(S,k):\n",
      "    s_minus = []\n",
      "    s_plus = []\n",
      "#     if len(S) not in (3,5,7):\n",
      "#         print(\"Can't use a list of that size\")\n",
      "#     else:\n",
      "    split = random.choice(range(1,len(S)))-1\n",
      "    for i in S:\n",
      "        if i < S[split]:\n",
      "            s_minus.append(i)\n",
      "        elif i > S[split]:\n",
      "            s_plus.append(i)\n",
      "    if len(s_minus) == k-1:\n",
      "        print(S[split])\n",
      "    else:\n",
      "        print(\"Gotta recurse again\")\n",
      "        Select(s_minus,k)\n"
     ],
     "language": "python",
     "metadata": {},
     "outputs": [],
     "prompt_number": 44
    },
    {
     "cell_type": "code",
     "collapsed": false,
     "input": [
      "Select(unsorted_list,k)"
     ],
     "language": "python",
     "metadata": {},
     "outputs": [
      {
       "output_type": "stream",
       "stream": "stdout",
       "text": [
        "6\n"
       ]
      }
     ],
     "prompt_number": 45
    },
    {
     "cell_type": "code",
     "collapsed": false,
     "input": [
      "S = unsorted_list\n",
      "\n",
      "unsorted_list = [7,6,1]\n",
      "if len(S) <= 3:\n",
      "    print(S)\n",
      "    temp = S\n",
      "    n = len(S)\n",
      "    for i in range(n):\n",
      "        mn = max(S)\n",
      "        S.append(mn)\n",
      "        temp.remove(mn)\n",
      "        print(temp)\n",
      "    S = temp\n",
      "    print(S)\n",
      "else\n",
      "    s_minus = []\n",
      "    s_plus = []\n",
      "    split = random.choice(range(1,len(S)))-1"
     ],
     "language": "python",
     "metadata": {},
     "outputs": [
      {
       "output_type": "stream",
       "stream": "stdout",
       "text": [
        "[7, 1, 6]\n",
        "[1, 6, 7]\n",
        "[1, 6, 7]\n"
       ]
      }
     ],
     "prompt_number": 59
    },
    {
     "cell_type": "code",
     "collapsed": false,
     "input": [
      "# unsorted_list = [7,1,6]\n",
      "unsorted_list =  [7,1,6,12,50]\n",
      "                  #,0,2]\n",
      "k = int(math.ceil(len(unsorted_list)/2)) + 1\n",
      "print(k)"
     ],
     "language": "python",
     "metadata": {},
     "outputs": [
      {
       "output_type": "stream",
       "stream": "stdout",
       "text": [
        "3\n"
       ]
      }
     ],
     "prompt_number": 2
    },
    {
     "cell_type": "code",
     "collapsed": false,
     "input": [
      "def Quicksort(S):\n",
      "    n = len(S)\n",
      "#     print(n)\n",
      "    if n == 1:\n",
      "        return S\n",
      "    elif n <= 3:\n",
      "        temp_1 = []\n",
      "        temp_2 = list(S)\n",
      "#         print temp_2\n",
      "        for i in range(0,n):\n",
      "            min_value = min(temp_2)\n",
      "            temp_2.remove(min_value)\n",
      "            temp_1.append(min_value)\n",
      "#             print(temp_1)\n",
      "        S = temp_1\n",
      "        return S\n",
      "    else:\n",
      "        s_minus = []\n",
      "        s_plus = []\n",
      "        split = random.choice(range(1,n))-1\n",
      "        found = False\n",
      "        for i in S:\n",
      "            if i < S[split]:\n",
      "                s_minus.append(i)\n",
      "            elif i > S[split]:\n",
      "                s_plus.append(i)\n",
      "            if (len(s_minus) >= (n/4)) and (len(s_plus) >= (n/4)):\n",
      "                found = True\n",
      "                print(\"Found the central splitter\")\n",
      "        Quicksort(s_minus)\n",
      "        Quicksort(s_plus)\n",
      "        print(s_minus)\n",
      "        print(s_plus)\n",
      "        print(split)\n",
      "        sorted_list = s_minus.append(split) + s_plus\n",
      "        return(sorted_list)"
     ],
     "language": "python",
     "metadata": {},
     "outputs": [],
     "prompt_number": 10
    },
    {
     "cell_type": "code",
     "collapsed": false,
     "input": [
      "Quicksort(unsorted_list)"
     ],
     "language": "python",
     "metadata": {},
     "outputs": [
      {
       "output_type": "stream",
       "stream": "stdout",
       "text": [
        "Found the central splitter\n",
        "[7, 1, 6]\n",
        "[50]\n",
        "3\n"
       ]
      },
      {
       "ename": "TypeError",
       "evalue": "unsupported operand type(s) for +: 'NoneType' and 'list'",
       "output_type": "pyerr",
       "traceback": [
        "\u001b[0;31m---------------------------------------------------------------------------\u001b[0m\n\u001b[0;31mTypeError\u001b[0m                                 Traceback (most recent call last)",
        "\u001b[0;32m<ipython-input-11-d3607a6cc960>\u001b[0m in \u001b[0;36m<module>\u001b[0;34m()\u001b[0m\n\u001b[0;32m----> 1\u001b[0;31m \u001b[0mQuicksort\u001b[0m\u001b[0;34m(\u001b[0m\u001b[0munsorted_list\u001b[0m\u001b[0;34m)\u001b[0m\u001b[0;34m\u001b[0m\u001b[0m\n\u001b[0m",
        "\u001b[0;32m<ipython-input-10-935f8f024901>\u001b[0m in \u001b[0;36mQuicksort\u001b[0;34m(S)\u001b[0m\n\u001b[1;32m     33\u001b[0m         \u001b[0;32mprint\u001b[0m\u001b[0;34m(\u001b[0m\u001b[0ms_plus\u001b[0m\u001b[0;34m)\u001b[0m\u001b[0;34m\u001b[0m\u001b[0m\n\u001b[1;32m     34\u001b[0m         \u001b[0;32mprint\u001b[0m\u001b[0;34m(\u001b[0m\u001b[0msplit\u001b[0m\u001b[0;34m)\u001b[0m\u001b[0;34m\u001b[0m\u001b[0m\n\u001b[0;32m---> 35\u001b[0;31m         \u001b[0msorted_list\u001b[0m \u001b[0;34m=\u001b[0m \u001b[0ms_minus\u001b[0m\u001b[0;34m.\u001b[0m\u001b[0mappend\u001b[0m\u001b[0;34m(\u001b[0m\u001b[0msplit\u001b[0m\u001b[0;34m)\u001b[0m \u001b[0;34m+\u001b[0m \u001b[0ms_plus\u001b[0m\u001b[0;34m\u001b[0m\u001b[0m\n\u001b[0m\u001b[1;32m     36\u001b[0m         \u001b[0;32mreturn\u001b[0m\u001b[0;34m(\u001b[0m\u001b[0msorted_list\u001b[0m\u001b[0;34m)\u001b[0m\u001b[0;34m\u001b[0m\u001b[0m\n",
        "\u001b[0;31mTypeError\u001b[0m: unsupported operand type(s) for +: 'NoneType' and 'list'"
       ]
      }
     ],
     "prompt_number": 11
    },
    {
     "cell_type": "code",
     "collapsed": false,
     "input": [
      "unsorted_list"
     ],
     "language": "python",
     "metadata": {},
     "outputs": [
      {
       "metadata": {},
       "output_type": "pyout",
       "prompt_number": 139,
       "text": [
        "[7, 1, 6]"
       ]
      }
     ],
     "prompt_number": 139
    },
    {
     "cell_type": "code",
     "collapsed": false,
     "input": [
      "Quicksort(unsorted_list)"
     ],
     "language": "python",
     "metadata": {},
     "outputs": [
      {
       "metadata": {},
       "output_type": "pyout",
       "prompt_number": 136,
       "text": [
        "[1, 6, 7]"
       ]
      }
     ],
     "prompt_number": 136
    },
    {
     "cell_type": "code",
     "collapsed": false,
     "input": [
      "n = 3\n",
      "test_array = []\n",
      "for i in range(n):\n",
      "    test_array.append(random.choice(range(1,100)))\n",
      "\n",
      "print(test_array)"
     ],
     "language": "python",
     "metadata": {},
     "outputs": [
      {
       "output_type": "stream",
       "stream": "stdout",
       "text": [
        "[9, 54, 68]\n"
       ]
      }
     ],
     "prompt_number": 13
    },
    {
     "cell_type": "code",
     "collapsed": false,
     "input": [
      "def random_unsorted_array(n):\n",
      "    test_array = []\n",
      "    for i in range(n):\n",
      "        test_array.append(random.choice(range(1,100)))\n",
      "    return test_array"
     ],
     "language": "python",
     "metadata": {},
     "outputs": [],
     "prompt_number": 4
    },
    {
     "cell_type": "code",
     "collapsed": false,
     "input": [
      "# def test_select():\n",
      "for i in range(3,8,2):\n",
      "    unsorted_array = random_unsorted_array(i)\n",
      "    print(unsorted_array)\n",
      "    k = int(math.floor(i/2)) + 1\n",
      "    print(statistics.median(unsorted_array))\n",
      "    \n",
      "    "
     ],
     "language": "python",
     "metadata": {},
     "outputs": [
      {
       "output_type": "stream",
       "stream": "stdout",
       "text": [
        "[83, 44, 29]\n"
       ]
      },
      {
       "ename": "NameError",
       "evalue": "name 'statistics' is not defined",
       "output_type": "pyerr",
       "traceback": [
        "\u001b[0;31m---------------------------------------------------------------------------\u001b[0m\n\u001b[0;31mNameError\u001b[0m                                 Traceback (most recent call last)",
        "\u001b[0;32m<ipython-input-5-ee8e918cf1ac>\u001b[0m in \u001b[0;36m<module>\u001b[0;34m()\u001b[0m\n\u001b[1;32m      4\u001b[0m     \u001b[0;32mprint\u001b[0m\u001b[0;34m(\u001b[0m\u001b[0munsorted_array\u001b[0m\u001b[0;34m)\u001b[0m\u001b[0;34m\u001b[0m\u001b[0m\n\u001b[1;32m      5\u001b[0m     \u001b[0mk\u001b[0m \u001b[0;34m=\u001b[0m \u001b[0mint\u001b[0m\u001b[0;34m(\u001b[0m\u001b[0mmath\u001b[0m\u001b[0;34m.\u001b[0m\u001b[0mfloor\u001b[0m\u001b[0;34m(\u001b[0m\u001b[0mi\u001b[0m\u001b[0;34m/\u001b[0m\u001b[0;36m2\u001b[0m\u001b[0;34m)\u001b[0m\u001b[0;34m)\u001b[0m \u001b[0;34m+\u001b[0m \u001b[0;36m1\u001b[0m\u001b[0;34m\u001b[0m\u001b[0m\n\u001b[0;32m----> 6\u001b[0;31m     \u001b[0;32mprint\u001b[0m\u001b[0;34m(\u001b[0m\u001b[0mstatistics\u001b[0m\u001b[0;34m.\u001b[0m\u001b[0mmedian\u001b[0m\u001b[0;34m(\u001b[0m\u001b[0munsorted_array\u001b[0m\u001b[0;34m)\u001b[0m\u001b[0;34m)\u001b[0m\u001b[0;34m\u001b[0m\u001b[0m\n\u001b[0m\u001b[1;32m      7\u001b[0m \u001b[0;34m\u001b[0m\u001b[0m\n\u001b[1;32m      8\u001b[0m \u001b[0;34m\u001b[0m\u001b[0m\n",
        "\u001b[0;31mNameError\u001b[0m: name 'statistics' is not defined"
       ]
      }
     ],
     "prompt_number": 5
    },
    {
     "cell_type": "code",
     "collapsed": false,
     "input": [],
     "language": "python",
     "metadata": {},
     "outputs": []
    }
   ],
   "metadata": {}
  }
 ]
}