{
 "metadata": {
  "kernelspec": {
   "display_name": "Python 3",
   "language": "python",
   "name": "python3"
  },
  "name": "",
  "signature": "sha256:036b4a454f985c929b81bc42497d63d20815428bff8fb1b68434ce19c15129d6"
 },
 "nbformat": 3,
 "nbformat_minor": 0,
 "worksheets": [
  {
   "cells": [
    {
     "cell_type": "code",
     "collapsed": false,
     "input": [
      "import random\n",
      "import math"
     ],
     "language": "python",
     "metadata": {},
     "outputs": [],
     "prompt_number": 124
    },
    {
     "cell_type": "code",
     "collapsed": false,
     "input": [
      "def select(S,k, print_mode):\n",
      "        if print_mode == True:\n",
      "                print(\"We're looking for the \" + str(k) +\"th element of \" + str(S))\n",
      "\n",
      "        if len(S) == 1:\n",
      "#         assert k == 0\n",
      "                return S[0]\n",
      "\n",
      "        if len(S) > 1 and all(element == S[0] for element in S):\n",
      "                return S[0]\n",
      "\n",
      "        split = random.choice(S)\n",
      "        if print_mode == True:\n",
      "                print(\"     We choose a random element to compare the others against, \" + str(split))\n",
      "        s_minus = []\n",
      "        s_plus = []\n",
      "        s_equal = []\n",
      "\n",
      "        for i in S:\n",
      "                if i < split:\n",
      "                        s_minus.append(i)\n",
      "                elif i > split:\n",
      "                        s_plus.append(i)\n",
      "                elif i == split:\n",
      "                        s_equal.append(i)\n",
      "\n",
      "        l = len(s_minus)\n",
      "\n",
      "        if l >= k:\n",
      "                if print_mode == True:\n",
      "                        print(\"     There are more than \" + str(k) + \" smaller values, so let's look inside that sub-list, s_minus\")\n",
      "                return select(s_minus, k, print_mode)\n",
      "        elif l >= k - len(s_equal):\n",
      "                if print_mode == True:\n",
      "                        print(\"     There are \" + str(l) + \" smaller values, so it is the one we're looking for\")\n",
      "                return split\n",
      "        else:\n",
      "                if print_mode == True:\n",
      "                        print(\"     There are than \" + str(len(s_plus)) + \" larger values, so let's look inside the other sub-list, s_plus\")\n",
      "                return select(s_plus,k-l-len(s_equal), print_mode)\n",
      "\n"
     ],
     "language": "python",
     "metadata": {},
     "outputs": [],
     "prompt_number": 2
    },
    {
     "cell_type": "code",
     "collapsed": false,
     "input": [
      "# given a lenght, generate a random \n",
      "def random_unsorted_list(n, max_val):\n",
      "        test_list = []\n",
      "        for i in range(n):\n",
      "                test_list.append(random.choice(range(2,max_val)))\n",
      "        print(test_list)\n",
      "        return test_list\n",
      "\n",
      "# # given a lenght, generate a random \n",
      "# def random_unsorted_list(n, max_val):\n",
      "#         test_list = []\n",
      "#         for i in range(n):\n",
      "#                 test_list.append(random.choice(range(2,max_val)))\n",
      "#         print(test_list)\n",
      "#         return test_list\n",
      "\n",
      "\n",
      "# test the select function for randomized median finding\n",
      "def test_select():\n",
      "        print(\"testing select function for randomized median finding\")\n",
      "        for i in random_unsorted_list(5,10):\n",
      "                unsorted_list = random_unsorted_list(i,100)\n",
      "                list_len = len(unsorted_list)\n",
      "                if(list_len % 2 == 0):\n",
      "                        print('even')\n",
      "                if list_len == 1:\n",
      "                    k = 0\n",
      "                else:\n",
      "                    k =  random.choice(range(1,list_len-1))\n",
      "#                 k = 2\n",
      "                print(k)\n",
      "                my_kth = select(unsorted_list, k, splitter)\n",
      "\n",
      "                sorted_list = list(unsorted_list)\n",
      "                sorted_list.sort()\n",
      "                true_kth = sorted_list[k-1]\n",
      "\n",
      "                if my_kth != true_kth:\n",
      "                        print(\" select function failed to find the \" + str(k) + \"th element  for array \" + str(unsorted_list) + \"\\n\")\n",
      "                        print(str(my_kth) + \" != \" + str(true_kth))\n",
      "                        print(\"\\n\")\n",
      "                        return False\n",
      "        print(\" select function successfully finds the kth element\")\n",
      "        print(\"\\n\")\n",
      "        return True\n",
      "\n",
      "# run all the tests, returning True if they pass, Fail if they do not\n",
      "def run_tests():\n",
      "        print(\"Running tests\")\n",
      "        select = test_select()\n",
      "        if(select == False):\n",
      "                print(\" Failed one or more tests\")\n",
      "        else:\n",
      "                print(\" All tests passed\")\n"
     ],
     "language": "python",
     "metadata": {},
     "outputs": [],
     "prompt_number": 3
    },
    {
     "cell_type": "code",
     "collapsed": false,
     "input": [
      "S = [8,8,8,8]\n",
      "if all(element == S[0] for element in S):\n",
      "        print(True)"
     ],
     "language": "python",
     "metadata": {},
     "outputs": [
      {
       "output_type": "stream",
       "stream": "stdout",
       "text": [
        "True\n"
       ]
      }
     ],
     "prompt_number": 4
    },
    {
     "cell_type": "code",
     "collapsed": false,
     "input": [
      "def quicksort(S,print_mode):\n",
      "    if print_mode == True:\n",
      "        print(\"We're using the result of our randomized median function to help us recursively sort the list \" + str(S))\n",
      "    n = len(S)\n",
      "#     print(n)\n",
      "    if n == 1:\n",
      "        return S\n",
      "    elif n <= 3:\n",
      "        if print_mode == True:\n",
      "            print(\"    The list is only one element long, so no need to sort\")\n",
      "        temp_1 = []\n",
      "        temp_2 = list(S)\n",
      "#         print temp_2\n",
      "        for i in range(0,n):\n",
      "            min_value = min(temp_2)\n",
      "            temp_2.remove(min_value)\n",
      "            temp_1.append(min_value)\n",
      "#             print(temp_1)\n",
      "        S = temp_1\n",
      "        return S\n",
      "    else:\n",
      "        s_minus = []\n",
      "        s_plus = []\n",
      "        s_equal = []\n",
      "\n",
      "        midpoint = n//2 + 1\n",
      "        # use the select function that we wrote for randomized median finding to get us to the right pivot point from the get-go\n",
      "        split = select(S,midpoint, False)\n",
      "        if print_mode == True:\n",
      "            print(\"   The median is \" + str(split))\n",
      "#         found = False\n",
      "        for i in S:\n",
      "            if i < split:\n",
      "                s_minus.append(i)\n",
      "            elif i > split:\n",
      "                s_plus.append(i)\n",
      "            elif i == split:\n",
      "                s_equal.append(i)\n",
      "\n",
      "        if print_mode == True:\n",
      "            print(\"    Recursively use this sorting method on any values less than \" + str(split))\n",
      "        s_minus = quicksort(s_minus, print_mode)\n",
      "        if print_mode == True:\n",
      "            print(\"    Recursively use this sorting method on any values greater than \" + str(split))\n",
      "        s_plus = quicksort(s_plus, print_mode)\n",
      "\n",
      "#         print(s_minus)\n",
      "#         print(s_plus)\n",
      "#         print(s_equal)\n",
      "        if print_mode == True:\n",
      "            print(\"    Concatenating together \" + str(s_minus) + \", \" + str(s_equal) + \", \" + str(s_plus))\n",
      "        sorted_list = list(s_minus)\n",
      "#         print(sorted_list)\n",
      "        sorted_list = sorted_list + s_equal\n",
      "#         print(sorted_list)\n",
      "        sorted_list = sorted_list + s_plus\n",
      "#         print(sorted_list)\n",
      "        if print_mode == True:\n",
      "             print(\"    The sorted result is \" + str(sorted_list) + \"\\n\")\n",
      "        return sorted_list\n",
      "##########################functions used for testing#############3\n",
      "# given a lenght, generate a random \n",
      "def random_unsorted_list(n, max_val):\n",
      "        test_list = []\n",
      "        for i in range(n):\n",
      "                test_list.append(random.choice(range(2,max_val)))\n",
      "        #print(test_list)\n",
      "        return test_list\n"
     ],
     "language": "python",
     "metadata": {},
     "outputs": [],
     "prompt_number": 5
    },
    {
     "cell_type": "code",
     "collapsed": false,
     "input": [
      "unsorted_list = [2,2,3,1]\n",
      "\n",
      "print(quicksort(unsorted_list, False))"
     ],
     "language": "python",
     "metadata": {},
     "outputs": [
      {
       "output_type": "stream",
       "stream": "stdout",
       "text": [
        "[1, 2, 2, 3]\n"
       ]
      }
     ],
     "prompt_number": 6
    },
    {
     "cell_type": "code",
     "collapsed": false,
     "input": [
      "s_plus = [2,2,2]\n",
      "s_minus = [3,3]\n",
      "split = [1]\n",
      "\n",
      "sorted_list = list(s_minus)\n",
      "print(sorted_list)\n",
      "sorted_list = sorted_list + split\n",
      "print(sorted_list)\n",
      "sorted_list = sorted_list + s_plus\n",
      "print(sorted_list)\n",
      "len(sorted_list)//2 + 1"
     ],
     "language": "python",
     "metadata": {},
     "outputs": [
      {
       "output_type": "stream",
       "stream": "stdout",
       "text": [
        "[3, 3]\n",
        "[3, 3, 1]\n",
        "[3, 3, 1, 2, 2, 2]\n"
       ]
      },
      {
       "metadata": {},
       "output_type": "pyout",
       "prompt_number": 7,
       "text": [
        "4"
       ]
      }
     ],
     "prompt_number": 7
    },
    {
     "cell_type": "code",
     "collapsed": false,
     "input": [
      "for i in range(1,5):\n",
      "    unsorted_list = random_unsorted_list(i,100)\n",
      "    sorted_list = list(unsorted_list)\n",
      "    sorted_list.sort()\n",
      "    for i in range(1,len(unsorted_list)):\n",
      "        my_sorted = quicksort(unsorted_list, False)\n",
      "        true_sorted = sorted_list\n",
      "        if(my_sorted != true_sorted):\n",
      "            print(\"##########################FAIL######################\")\n",
      "            print(\"\\n\")"
     ],
     "language": "python",
     "metadata": {},
     "outputs": [],
     "prompt_number": 9
    },
    {
     "cell_type": "code",
     "collapsed": false,
     "input": [
      "def prompt():\n",
      "        print(\"Welcome to the CS 430 summer project!\")\n",
      "        done = False\n",
      "        print_mode = False\n",
      "        while(done == False):\n",
      "                response = input(\"\"\"Type the letter for what you would like to do:\n",
      "                        a:  Run in test mode\n",
      "                        b:  Choose a function to run\n",
      "                        c:  Exit the program\n",
      "                \"\"\")\n",
      "                if(response == 'c'):\n",
      "                        exit()\n",
      "                        done = True\n",
      "                elif(response == 'a'):\n",
      "                        run_tests()\n",
      "                        done = True\n",
      "                elif(response == 'b'):\n",
      "                        print_mode = True\n",
      "                        done = True\n",
      "                else:\n",
      "                        print(\"Try again\\n\")\n"
     ],
     "language": "python",
     "metadata": {},
     "outputs": [],
     "prompt_number": 10
    },
    {
     "cell_type": "code",
     "collapsed": false,
     "input": [
      "#response = input(\"Type in a list of integer values, separated by commas like this: '1,2,3,4'\")\n",
      "#unsorted_list = list(response)\n",
      "unsorted_list = list((1,8,9))\n",
      "for i in unsorted_list:\n",
      "    print(type(i))\n",
      "# unsorted_list = str(response).split(\",\")\n",
      "print(unsorted_list)\n",
      "all(isinstance(item, int) for item in unsorted_list)"
     ],
     "language": "python",
     "metadata": {},
     "outputs": [
      {
       "output_type": "stream",
       "stream": "stdout",
       "text": [
        "<type 'int'>\n",
        "<type 'int'>\n",
        "<type 'int'>\n",
        "[1, 8, 9]\n"
       ]
      },
      {
       "metadata": {},
       "output_type": "pyout",
       "prompt_number": 17,
       "text": [
        "True"
       ]
      }
     ],
     "prompt_number": 17
    },
    {
     "cell_type": "code",
     "collapsed": false,
     "input": [
      "def user_entered_list():\n",
      "    type_correct = False\n",
      "    while type_correct == False:\n",
      "        try:\n",
      "            response = input(\"Type in a list of integer values, separated by commas like this: '1,2,3,4' \")\n",
      "    #         response = tuple(response)\n",
      "            unsorted_list = list(response)\n",
      "            if all(isinstance(item, int) for item in unsorted_list) == True:\n",
      "                type_correct = True\n",
      "        except Exception as error:\n",
      "            print(error)\n",
      "    print(\"You entered: \" + str(unsorted_list))\n",
      "    return unsorted_list"
     ],
     "language": "python",
     "metadata": {},
     "outputs": [],
     "prompt_number": 54
    },
    {
     "cell_type": "code",
     "collapsed": false,
     "input": [
      "user_entered_list()"
     ],
     "language": "python",
     "metadata": {},
     "outputs": [
      {
       "name": "stdout",
       "output_type": "stream",
       "stream": "stdout",
       "text": [
        "Type in a list of integer values, separated by commas like this: '1,2,3,4' 1, 5 , 7\n"
       ]
      },
      {
       "output_type": "stream",
       "stream": "stdout",
       "text": [
        "You entered: [1, 5, 7]\n"
       ]
      },
      {
       "metadata": {},
       "output_type": "pyout",
       "prompt_number": 56,
       "text": [
        "[1, 5, 7]"
       ]
      }
     ],
     "prompt_number": 56
    },
    {
     "cell_type": "code",
     "collapsed": false,
     "input": [
      "def user_random_list_params():\n",
      "    type_correct = False\n",
      "    while type_correct == False:\n",
      "        try:\n",
      "            response = input(\"Type the desired length of your list (an integer): \")\n",
      "#             print(response)\n",
      "#             print(type(response))\n",
      "            n = int(response)\n",
      "            type_correct = True\n",
      "        except Exception as error:\n",
      "            print(error)\n",
      "    print(\"Let's generate a list of length: \" + str(n))\n",
      "    return n"
     ],
     "language": "python",
     "metadata": {},
     "outputs": [],
     "prompt_number": 63
    },
    {
     "cell_type": "code",
     "collapsed": false,
     "input": [
      "def user_choose_k(n):\n",
      "    type_correct = False\n",
      "    while type_correct == False:\n",
      "        try:\n",
      "            response = input(\"Choose which element between 1 and the length of your list you'd like to find. (0 for the minimum, n for the maximum): \")\n",
      "#             print(response)\n",
      "#             print(type(response))\n",
      "            k = int(response)\n",
      "            if k in range(1,n):\n",
      "                type_correct = True\n",
      "        except Exception as error:\n",
      "            print(error)\n",
      "    print(\"You've selected to look for the \" + str(k) + \"th element\")\n",
      "    return k"
     ],
     "language": "python",
     "metadata": {},
     "outputs": [],
     "prompt_number": 85
    },
    {
     "cell_type": "code",
     "collapsed": false,
     "input": [
      "def user_manual_or_random():\n",
      "    done = False\n",
      "#     print_mode = False\n",
      "    while(done == False):\n",
      "            response = str()\n",
      "            try:\n",
      "                response = str(raw_input(\"\"\"Choose whether you want to entere a list manually or have one randomly generated:\n",
      "                        a:  Random\n",
      "                        b:  Manual\n",
      "                        c:  Exit the program\n",
      "                \"\"\")).strip()\n",
      "            except Exception as error:\n",
      "                print(error)\n",
      "            if(response == 'c'):\n",
      "                    exit()\n",
      "                    done = True\n",
      "            elif(response == 'a'):\n",
      "                    n = user_random_list_params()\n",
      "                    unsorted_list = random_unsorted_list(n,100)\n",
      "                    return unsorted_list\n",
      "                    done = True\n",
      "            elif(response == 'b'):\n",
      "                    unsorted_list = user_entered_list()\n",
      "                    return unsorted_list\n",
      "                    done = True\n",
      "            else:\n",
      "                    print(\"Try again\\n\")\n",
      "  "
     ],
     "language": "python",
     "metadata": {},
     "outputs": [],
     "prompt_number": 83
    },
    {
     "cell_type": "code",
     "collapsed": false,
     "input": [
      "print(user_manual_or_random())"
     ],
     "language": "python",
     "metadata": {},
     "outputs": [
      {
       "name": "stdout",
       "output_type": "stream",
       "stream": "stdout",
       "text": [
        "Choose whether you want to entere a list manually or have one randomly generated:\n",
        "                        a:  Random\n",
        "                        b:  Manual\n",
        "                        c:  Exit the program\n",
        "                b\n"
       ]
      },
      {
       "name": "stdout",
       "output_type": "stream",
       "stream": "stdout",
       "text": [
        "Type in a list of integer values, separated by commas like this: '1,2,3,4' 1,3,4 , 5\n"
       ]
      },
      {
       "output_type": "stream",
       "stream": "stdout",
       "text": [
        "You entered: [1, 3, 4, 5]\n",
        "[1, 3, 4, 5]\n"
       ]
      }
     ],
     "prompt_number": 84
    },
    {
     "cell_type": "code",
     "collapsed": false,
     "input": [
      "user_random_list_params()"
     ],
     "language": "python",
     "metadata": {},
     "outputs": [
      {
       "name": "stdout",
       "output_type": "stream",
       "stream": "stdout",
       "text": [
        "Type the desired length of your list (an integer): 8\n"
       ]
      },
      {
       "output_type": "stream",
       "stream": "stdout",
       "text": [
        "Let's generate a list of length: 8\n"
       ]
      },
      {
       "metadata": {},
       "output_type": "pyout",
       "prompt_number": 64,
       "text": [
        "8"
       ]
      }
     ],
     "prompt_number": 64
    },
    {
     "cell_type": "code",
     "collapsed": false,
     "input": [
      "def user_choose_a_function(print_mode):\n",
      "    done = False\n",
      "    print_mode = False\n",
      "    while(done == False):\n",
      "            response = str()\n",
      "            try:\n",
      "                response = str(raw_input(\"\"\"Choose a function to run:\n",
      "                    a:  Find the kth element of a list\n",
      "                    b:  Sort a list\n",
      "                    c:  Exit the program\n",
      "            \"\"\")).strip()\n",
      "            except Exception as error:\n",
      "                print(error)\n",
      "            if(response == 'c'):\n",
      "                    exit()\n",
      "                    done = True\n",
      "            elif(response == 'a'):\n",
      "                    unsorted_list = user_manual_or_random()\n",
      "                    k = user_choose_k(len(unsorted_list))\n",
      "                    select(unsorted_list,k,True)\n",
      "                    done = True\n",
      "            elif(response == 'b'):\n",
      "                    unsorted_list = user_manual_or_random()\n",
      "                    quicksort(unsorted_list,True)\n",
      "                    done = True\n",
      "            else:\n",
      "                    print(\"Try again\\n\")\n",
      "  "
     ],
     "language": "python",
     "metadata": {},
     "outputs": [],
     "prompt_number": 94
    },
    {
     "cell_type": "code",
     "collapsed": false,
     "input": [
      "user_choose_k(3)"
     ],
     "language": "python",
     "metadata": {},
     "outputs": [
      {
       "name": "stdout",
       "output_type": "stream",
       "stream": "stdout",
       "text": [
        "Choose which element between 1 and the length of your list you'd like to find. (0 for the minimum, n for the maximum): 4\n"
       ]
      },
      {
       "name": "stdout",
       "output_type": "stream",
       "stream": "stdout",
       "text": [
        "Choose which element between 1 and the length of your list you'd like to find. (0 for the minimum, n for the maximum): 5\n"
       ]
      },
      {
       "name": "stdout",
       "output_type": "stream",
       "stream": "stdout",
       "text": [
        "Choose which element between 1 and the length of your list you'd like to find. (0 for the minimum, n for the maximum): 1\n"
       ]
      },
      {
       "output_type": "stream",
       "stream": "stdout",
       "text": [
        "You've selected to look for the 1th element\n"
       ]
      },
      {
       "metadata": {},
       "output_type": "pyout",
       "prompt_number": 86,
       "text": [
        "1"
       ]
      }
     ],
     "prompt_number": 86
    },
    {
     "cell_type": "code",
     "collapsed": false,
     "input": [
      "def prompt():\n",
      "        print(\"Welcome to the CS 430 summer project!\")\n",
      "        done = False\n",
      "        print_mode = False\n",
      "        while(done == False):\n",
      "            response = str()\n",
      "            try:\n",
      "                response = str(raw_input(\"\"\"Type the letter for what you would like to do:\n",
      "                        a:  Run in test mode\n",
      "                        b:  Choose a function to run\n",
      "                        c:  Exit the program\n",
      "                \"\"\")).strip()\n",
      "            except Exception as error:\n",
      "                print(error)\n",
      "            if(response == 'c'):\n",
      "                    exit()\n",
      "                    done = True\n",
      "            elif(response == 'a'):\n",
      "                    run_tests()\n",
      "                    done = True\n",
      "            elif(response == 'b'):\n",
      "                    print_mode = True\n",
      "                    user_choose_a_function(print_mode)\n",
      "                    done = True\n",
      "            else:\n",
      "                    print(\"Try again\\n\")\n"
     ],
     "language": "python",
     "metadata": {},
     "outputs": [],
     "prompt_number": 95
    },
    {
     "cell_type": "code",
     "collapsed": false,
     "input": [
      "prompt()"
     ],
     "language": "python",
     "metadata": {},
     "outputs": [
      {
       "output_type": "stream",
       "stream": "stdout",
       "text": [
        "Welcome to the CS 430 summer project!\n"
       ]
      },
      {
       "name": "stdout",
       "output_type": "stream",
       "stream": "stdout",
       "text": [
        "Type the letter for what you would like to do:\n",
        "                        a:  Run in test mode\n",
        "                        b:  Choose a function to run\n",
        "                        c:  Exit the program\n",
        "                b\n"
       ]
      },
      {
       "name": "stdout",
       "output_type": "stream",
       "stream": "stdout",
       "text": [
        "Choose a function to run:\n",
        "                    a:  Find the kth element of a list\n",
        "                    b:  Sort a list\n",
        "                    c:  Exit the program\n",
        "            a\n"
       ]
      },
      {
       "name": "stdout",
       "output_type": "stream",
       "stream": "stdout",
       "text": [
        "Choose whether you want to entere a list manually or have one randomly generated:\n",
        "                        a:  Random\n",
        "                        b:  Manual\n",
        "                        c:  Exit the program\n",
        "                a\n"
       ]
      },
      {
       "name": "stdout",
       "output_type": "stream",
       "stream": "stdout",
       "text": [
        "Type the desired length of your list (an integer): 5\n"
       ]
      },
      {
       "output_type": "stream",
       "stream": "stdout",
       "text": [
        "Let's generate a list of length: 5\n"
       ]
      },
      {
       "name": "stdout",
       "output_type": "stream",
       "stream": "stdout",
       "text": [
        "Choose which element between 1 and the length of your list you'd like to find. (0 for the minimum, n for the maximum): 3\n"
       ]
      },
      {
       "output_type": "stream",
       "stream": "stdout",
       "text": [
        "You've selected to look for the 3th element\n",
        "We're looking for the 3th element of [38, 42, 78, 61, 39]\n",
        "     We choose a random element to compare the others against, 38\n",
        "     There are than 4 larger values, so let's look inside the other sub-list, s_plus\n",
        "We're looking for the 2th element of [42, 78, 61, 39]\n",
        "     We choose a random element to compare the others against, 61\n",
        "     There are more than 2 smaller values, so let's look inside that sub-list, s_minus\n",
        "We're looking for the 2th element of [42, 39]\n",
        "     We choose a random element to compare the others against, 42\n",
        "     There are 1 smaller values, so it is the one we're looking for\n"
       ]
      }
     ],
     "prompt_number": 96
    },
    {
     "cell_type": "code",
     "collapsed": false,
     "input": [
      "def user_entered_list():\n",
      "    type_correct = False\n",
      "    while type_correct == False:\n",
      "        try:\n",
      "            response = str(raw_input(\"Type in a list of integer values, separated by commas like this: '1,2,3,4' \")).replace(\" \",\"\")\n",
      "            unsorted_list = response.split(\",\")\n",
      "            for i,item in enumerate(unsorted_list):\n",
      "                unsorted_list[i] = int(item)\n",
      "            if all(isinstance(item, int) for item in unsorted_list) == True:\n",
      "                type_correct = True\n",
      "        except Exception as error:\n",
      "            print(error)\n",
      "    print(\"You entered: \" + str(unsorted_list))\n",
      "    print(type(unsorted_list))\n",
      "    return unsorted_list\n"
     ],
     "language": "python",
     "metadata": {},
     "outputs": [],
     "prompt_number": 113
    },
    {
     "cell_type": "code",
     "collapsed": false,
     "input": [
      "user_entered_list()"
     ],
     "language": "python",
     "metadata": {},
     "outputs": [
      {
       "name": "stdout",
       "output_type": "stream",
       "stream": "stdout",
       "text": [
        "Type in a list of integer values, separated by commas like this: '1,2,3,4' 5, 6 ,7\n"
       ]
      },
      {
       "output_type": "stream",
       "stream": "stdout",
       "text": [
        "You entered: [5, 6, 7]\n",
        "<type 'list'>\n"
       ]
      },
      {
       "metadata": {},
       "output_type": "pyout",
       "prompt_number": 114,
       "text": [
        "[5, 6, 7]"
       ]
      }
     ],
     "prompt_number": 114
    },
    {
     "cell_type": "code",
     "collapsed": false,
     "input": [
      "import pandas as pd\n",
      "from pathlib import Path\n",
      "\n",
      "file_name = 'pride_and_prejudice_ch_1.txt'\n",
      "#folder_path = Path(\"./text/\")\n",
      "file_to_open = Path(\"../algorithms_app/text/\" + file_name)\n",
      "\n",
      "data = str()\n",
      "with open(str(file_to_open), 'r') as file:\n",
      "    data = file.read().replace('\\n', '')\n"
     ],
     "language": "python",
     "metadata": {},
     "outputs": [],
     "prompt_number": 125
    },
    {
     "cell_type": "code",
     "collapsed": false,
     "input": [
      "char_data = list(data)\n",
      "char_df = pd.DataFrame(char_data, columns = ['char'])\n",
      "\n",
      "char_df.head()\n",
      "grouped_df = char_df.groupby('char').size().reset_index(name='count').sort_values(by = ['count', 'char'], ascending = False)\n",
      "grouped_df"
     ],
     "language": "python",
     "metadata": {},
     "outputs": [
      {
       "html": [
        "<div>\n",
        "<style scoped>\n",
        "    .dataframe tbody tr th:only-of-type {\n",
        "        vertical-align: middle;\n",
        "    }\n",
        "\n",
        "    .dataframe tbody tr th {\n",
        "        vertical-align: top;\n",
        "    }\n",
        "\n",
        "    .dataframe thead th {\n",
        "        text-align: right;\n",
        "    }\n",
        "</style>\n",
        "<table border=\"1\" class=\"dataframe\">\n",
        "  <thead>\n",
        "    <tr style=\"text-align: right;\">\n",
        "      <th></th>\n",
        "      <th>char</th>\n",
        "      <th>count</th>\n",
        "    </tr>\n",
        "  </thead>\n",
        "  <tbody>\n",
        "    <tr>\n",
        "      <th>0</th>\n",
        "      <td></td>\n",
        "      <td>813</td>\n",
        "    </tr>\n",
        "    <tr>\n",
        "      <th>27</th>\n",
        "      <td>e</td>\n",
        "      <td>406</td>\n",
        "    </tr>\n",
        "    <tr>\n",
        "      <th>42</th>\n",
        "      <td>t</td>\n",
        "      <td>278</td>\n",
        "    </tr>\n",
        "    <tr>\n",
        "      <th>37</th>\n",
        "      <td>o</td>\n",
        "      <td>278</td>\n",
        "    </tr>\n",
        "    <tr>\n",
        "      <th>36</th>\n",
        "      <td>n</td>\n",
        "      <td>245</td>\n",
        "    </tr>\n",
        "    <tr>\n",
        "      <th>23</th>\n",
        "      <td>a</td>\n",
        "      <td>241</td>\n",
        "    </tr>\n",
        "    <tr>\n",
        "      <th>31</th>\n",
        "      <td>i</td>\n",
        "      <td>223</td>\n",
        "    </tr>\n",
        "    <tr>\n",
        "      <th>41</th>\n",
        "      <td>s</td>\n",
        "      <td>220</td>\n",
        "    </tr>\n",
        "    <tr>\n",
        "      <th>30</th>\n",
        "      <td>h</td>\n",
        "      <td>205</td>\n",
        "    </tr>\n",
        "    <tr>\n",
        "      <th>40</th>\n",
        "      <td>r</td>\n",
        "      <td>198</td>\n",
        "    </tr>\n",
        "    <tr>\n",
        "      <th>43</th>\n",
        "      <td>u</td>\n",
        "      <td>124</td>\n",
        "    </tr>\n",
        "    <tr>\n",
        "      <th>26</th>\n",
        "      <td>d</td>\n",
        "      <td>117</td>\n",
        "    </tr>\n",
        "    <tr>\n",
        "      <th>34</th>\n",
        "      <td>l</td>\n",
        "      <td>113</td>\n",
        "    </tr>\n",
        "    <tr>\n",
        "      <th>47</th>\n",
        "      <td>y</td>\n",
        "      <td>103</td>\n",
        "    </tr>\n",
        "    <tr>\n",
        "      <th>35</th>\n",
        "      <td>m</td>\n",
        "      <td>102</td>\n",
        "    </tr>\n",
        "    <tr>\n",
        "      <th>28</th>\n",
        "      <td>f</td>\n",
        "      <td>86</td>\n",
        "    </tr>\n",
        "    <tr>\n",
        "      <th>45</th>\n",
        "      <td>w</td>\n",
        "      <td>72</td>\n",
        "    </tr>\n",
        "    <tr>\n",
        "      <th>29</th>\n",
        "      <td>g</td>\n",
        "      <td>71</td>\n",
        "    </tr>\n",
        "    <tr>\n",
        "      <th>52</th>\n",
        "      <td>\ufffd</td>\n",
        "      <td>64</td>\n",
        "    </tr>\n",
        "    <tr>\n",
        "      <th>49</th>\n",
        "      <td>\ufffd</td>\n",
        "      <td>64</td>\n",
        "    </tr>\n",
        "    <tr>\n",
        "      <th>25</th>\n",
        "      <td>c</td>\n",
        "      <td>61</td>\n",
        "    </tr>\n",
        "    <tr>\n",
        "      <th>4</th>\n",
        "      <td>.</td>\n",
        "      <td>58</td>\n",
        "    </tr>\n",
        "    <tr>\n",
        "      <th>2</th>\n",
        "      <td>,</td>\n",
        "      <td>56</td>\n",
        "    </tr>\n",
        "    <tr>\n",
        "      <th>44</th>\n",
        "      <td>v</td>\n",
        "      <td>37</td>\n",
        "    </tr>\n",
        "    <tr>\n",
        "      <th>24</th>\n",
        "      <td>b</td>\n",
        "      <td>36</td>\n",
        "    </tr>\n",
        "    <tr>\n",
        "      <th>51</th>\n",
        "      <td>\ufffd</td>\n",
        "      <td>32</td>\n",
        "    </tr>\n",
        "    <tr>\n",
        "      <th>50</th>\n",
        "      <td>\ufffd</td>\n",
        "      <td>32</td>\n",
        "    </tr>\n",
        "    <tr>\n",
        "      <th>38</th>\n",
        "      <td>p</td>\n",
        "      <td>28</td>\n",
        "    </tr>\n",
        "    <tr>\n",
        "      <th>33</th>\n",
        "      <td>k</td>\n",
        "      <td>25</td>\n",
        "    </tr>\n",
        "    <tr>\n",
        "      <th>12</th>\n",
        "      <td>I</td>\n",
        "      <td>24</td>\n",
        "    </tr>\n",
        "    <tr>\n",
        "      <th>15</th>\n",
        "      <td>M</td>\n",
        "      <td>18</td>\n",
        "    </tr>\n",
        "    <tr>\n",
        "      <th>8</th>\n",
        "      <td>B</td>\n",
        "      <td>16</td>\n",
        "    </tr>\n",
        "    <tr>\n",
        "      <th>5</th>\n",
        "      <td>;</td>\n",
        "      <td>10</td>\n",
        "    </tr>\n",
        "    <tr>\n",
        "      <th>14</th>\n",
        "      <td>L</td>\n",
        "      <td>8</td>\n",
        "    </tr>\n",
        "    <tr>\n",
        "      <th>6</th>\n",
        "      <td>?</td>\n",
        "      <td>8</td>\n",
        "    </tr>\n",
        "    <tr>\n",
        "      <th>22</th>\n",
        "      <td>Y</td>\n",
        "      <td>7</td>\n",
        "    </tr>\n",
        "    <tr>\n",
        "      <th>48</th>\n",
        "      <td>z</td>\n",
        "      <td>6</td>\n",
        "    </tr>\n",
        "    <tr>\n",
        "      <th>46</th>\n",
        "      <td>x</td>\n",
        "      <td>6</td>\n",
        "    </tr>\n",
        "    <tr>\n",
        "      <th>21</th>\n",
        "      <td>W</td>\n",
        "      <td>6</td>\n",
        "    </tr>\n",
        "    <tr>\n",
        "      <th>1</th>\n",
        "      <td>!</td>\n",
        "      <td>6</td>\n",
        "    </tr>\n",
        "    <tr>\n",
        "      <th>3</th>\n",
        "      <td>-</td>\n",
        "      <td>5</td>\n",
        "    </tr>\n",
        "    <tr>\n",
        "      <th>20</th>\n",
        "      <td>T</td>\n",
        "      <td>4</td>\n",
        "    </tr>\n",
        "    <tr>\n",
        "      <th>11</th>\n",
        "      <td>H</td>\n",
        "      <td>4</td>\n",
        "    </tr>\n",
        "    <tr>\n",
        "      <th>19</th>\n",
        "      <td>S</td>\n",
        "      <td>3</td>\n",
        "    </tr>\n",
        "    <tr>\n",
        "      <th>16</th>\n",
        "      <td>N</td>\n",
        "      <td>3</td>\n",
        "    </tr>\n",
        "    <tr>\n",
        "      <th>9</th>\n",
        "      <td>D</td>\n",
        "      <td>3</td>\n",
        "    </tr>\n",
        "    <tr>\n",
        "      <th>39</th>\n",
        "      <td>q</td>\n",
        "      <td>2</td>\n",
        "    </tr>\n",
        "    <tr>\n",
        "      <th>32</th>\n",
        "      <td>j</td>\n",
        "      <td>2</td>\n",
        "    </tr>\n",
        "    <tr>\n",
        "      <th>17</th>\n",
        "      <td>O</td>\n",
        "      <td>2</td>\n",
        "    </tr>\n",
        "    <tr>\n",
        "      <th>7</th>\n",
        "      <td>A</td>\n",
        "      <td>2</td>\n",
        "    </tr>\n",
        "    <tr>\n",
        "      <th>18</th>\n",
        "      <td>P</td>\n",
        "      <td>1</td>\n",
        "    </tr>\n",
        "    <tr>\n",
        "      <th>13</th>\n",
        "      <td>J</td>\n",
        "      <td>1</td>\n",
        "    </tr>\n",
        "    <tr>\n",
        "      <th>10</th>\n",
        "      <td>E</td>\n",
        "      <td>1</td>\n",
        "    </tr>\n",
        "  </tbody>\n",
        "</table>\n",
        "</div>"
       ],
       "metadata": {},
       "output_type": "pyout",
       "prompt_number": 138,
       "text": [
        "   char  count\n",
        "0          813\n",
        "27    e    406\n",
        "42    t    278\n",
        "37    o    278\n",
        "36    n    245\n",
        "23    a    241\n",
        "31    i    223\n",
        "41    s    220\n",
        "30    h    205\n",
        "40    r    198\n",
        "43    u    124\n",
        "26    d    117\n",
        "34    l    113\n",
        "47    y    103\n",
        "35    m    102\n",
        "28    f     86\n",
        "45    w     72\n",
        "29    g     71\n",
        "52    \ufffd     64\n",
        "49    \ufffd     64\n",
        "25    c     61\n",
        "4     .     58\n",
        "2     ,     56\n",
        "44    v     37\n",
        "24    b     36\n",
        "51    \ufffd     32\n",
        "50    \ufffd     32\n",
        "38    p     28\n",
        "33    k     25\n",
        "12    I     24\n",
        "15    M     18\n",
        "8     B     16\n",
        "5     ;     10\n",
        "14    L      8\n",
        "6     ?      8\n",
        "22    Y      7\n",
        "48    z      6\n",
        "46    x      6\n",
        "21    W      6\n",
        "1     !      6\n",
        "3     -      5\n",
        "20    T      4\n",
        "11    H      4\n",
        "19    S      3\n",
        "16    N      3\n",
        "9     D      3\n",
        "39    q      2\n",
        "32    j      2\n",
        "17    O      2\n",
        "7     A      2\n",
        "18    P      1\n",
        "13    J      1\n",
        "10    E      1"
       ]
      }
     ],
     "prompt_number": 138
    },
    {
     "cell_type": "code",
     "collapsed": false,
     "input": [
      "#https://www.techrepublic.com/article/huffman-coding-in-python/\n",
      "\n",
      "#https://rosettacode.org/wiki/Huffman_coding#Python\n",
      "\n",
      "#https://medium.com/iecse-hashtag/huffman-coding-compression-basics-in-python-6653cdb4c476\n",
      "#https://www.tutorialspoint.com/python_data_structure/python_binary_tree.htm\n",
      "space_count = [2]\n",
      "\n",
      "class Node(object):\n",
      "    left = None\n",
      "    right = None\n",
      "    char = None\n",
      "    freq = 0\n",
      "    \n",
      "    def __init__(self,c,f):\n",
      "        self.char = c\n",
      "        self.freq = f\n",
      "    \n",
      "    def set_children(self,left_node,right_node):\n",
      "        self.left = left_node\n",
      "        self.right = right_node\n",
      "        \n",
      "    def __repr__(self):\n",
      "        return \"%s - %s -- %s _ %s\" % (self.char, self.freq, self.left, self.right)\n",
      "    \n",
      "    def __cmp__(self,other_node):\n",
      "        return cmp(self.freq, other_node.freq)\n",
      "    \n",
      "    def insert(self, other_node):\n",
      "# Compare the new value with the parent node\n",
      "        if self.freq:\n",
      "            if other_node < self:\n",
      "                if self.left is None:\n",
      "                    self.left = other_node\n",
      "                else:\n",
      "                    self.left.insert(other_node)\n",
      "            elif other_node > self:\n",
      "                if self.right is None:\n",
      "                    self.right = other_node\n",
      "                else:\n",
      "                    self.right.insert(other_node)\n",
      "        else:\n",
      "            self = other_node\n",
      "    \n",
      "    def print_tree(self,count = 1, pos = 'mid'):\n",
      "        if self.left:\n",
      "            self.left.print_tree(count + 2, 'left')\n",
      "#         print(' ' * count + str(self.char))\n",
      "        text = str(self.char)\n",
      "        if pos == 'mid':\n",
      "            print(text)\n",
      "        elif pos == 'left':\n",
      "            print(' ' * count + text)\n",
      "        elif pos == 'right':\n",
      "            print('| ' + text)\n",
      "        if self.right:\n",
      "            self.right.print_tree(count + 2, 'left')\n",
      "\n",
      "        \n",
      "\n",
      "# https://medium.com/swlh/data-structures-heaps-b039868a521b        \n",
      "class Binary_heap:\n",
      "    def __init__(self, array):\n",
      "        self.heapList = array\n",
      "        self.currentSize = len(array)\n",
      "    \n",
      "    def get_root_node(self):\n",
      "        root = self.heapList[(self.currentSize + 1)//2]\n",
      "        return root\n",
      "    \n",
      "def main():\n",
      "        data = textfile_to_str()\n",
      "        count_df = str_to_count_df(data)\n",
      "#         for i in count_df.columns.values:\n",
      "#             print i\n",
      "#         root = Node(count_df['char'][0],count_df['freq'][0])\n",
      "#         print(root)\n",
      "        \n",
      "        node_queue = []\n",
      "        for i,row in count_df.head(10).iterrows():\n",
      "            node_queue.append(Node(row['char'], row['freq']))\n",
      "#         print node_queue\n",
      "        \n",
      "#         temp_tree = Binary_heap([])\n",
      "        \n",
      "        root = node_queue[0]\n",
      "#         root.insert(node_queue[1])\n",
      "#         root.insert(node_queue[2])\n",
      "        \n",
      "        for node in node_queue[1:]:\n",
      "            print(\"inserting \")\n",
      "            print(node)\n",
      "            print(type(node))\n",
      "            root.insert(node)\n",
      "        print('Printing the node tree')\n",
      "        root.print_tree()    \n",
      "        \n",
      "        print(\"\\n\")\n",
      "        \n",
      "        print(type(root))\n",
      "#         other_print_tree(root)\n",
      "        \n",
      "def textfile_to_str():\n",
      "        file_name = 'pride_and_prejudice_ch_1.txt'\n",
      "        file_to_open = Path(\"../algorithms_app/text/\" + file_name)\n",
      "        print(\"Opening the file to read in characters\")\n",
      "\n",
      "        data = str()\n",
      "        with open(str(file_to_open), 'r') as file:\n",
      "                data = file.read().replace('\\n', '')\n",
      "        return(data)\n",
      "\n",
      "def str_to_count_df(text_string):\n",
      "        char_df = pd.DataFrame(list(text_string), columns = ['char'])\n",
      "        grouped_df = char_df.groupby('char').size().reset_index(name = \"freq\").sort_values(by = ['freq', 'char'], ascending = False)\n",
      "        print(\"Here are the most frequent characters in the file:\\n\")\n",
      "        print(grouped_df.head())\n",
      "        return grouped_df\n",
      "\n",
      "main()\n"
     ],
     "language": "python",
     "metadata": {},
     "outputs": []
    },
    {
     "cell_type": "code",
     "collapsed": false,
     "input": [],
     "language": "python",
     "metadata": {},
     "outputs": []
    },
    {
     "cell_type": "code",
     "collapsed": false,
     "input": [
      "from heapq import *"
     ],
     "language": "python",
     "metadata": {},
     "outputs": [],
     "prompt_number": 164
    },
    {
     "cell_type": "code",
     "collapsed": false,
     "input": [
      "data = textfile_to_str()\n",
      "count_df = str_to_count_df(data)\n",
      "\n",
      "node_queue = []\n",
      "for i,row in count_df.head().iterrows():\n",
      "    node_queue.append(Node(row['char'], row['freq']))\n",
      "print node_queue\n"
     ],
     "language": "python",
     "metadata": {},
     "outputs": [
      {
       "output_type": "stream",
       "stream": "stdout",
       "text": [
        "Opening the file to read in characters\n",
        "Here are the most frequent characters in the file:\n"
       ]
      },
      {
       "output_type": "stream",
       "stream": "stdout",
       "text": [
        "\n",
        "   char  freq\n",
        "0         813\n",
        "27    e   406\n",
        "42    t   278\n",
        "37    o   278\n",
        "36    n   245\n",
        "[  - 813 -- None _ None, e - 406 -- None _ None, t - 278 -- None _ None, o - 278 -- None _ None, n - 245 -- None _ None]\n"
       ]
      }
     ],
     "prompt_number": 174
    },
    {
     "cell_type": "code",
     "collapsed": false,
     "input": [
      "class Node(object):\n",
      "    left = None\n",
      "    right = None\n",
      "    char = None\n",
      "    prefix_part = None\n",
      "    freq = 0\n",
      "    \n",
      "    def __init__(self,c,f):\n",
      "        self.char = c\n",
      "        self.freq = f\n",
      "    \n",
      "    def set_children(self,left_node,right_node):\n",
      "        self.left = left_node\n",
      "        self.right = right_node\n",
      "    \n",
      "    def set_prefix_part(self, n):\n",
      "        self.prefix_part = n\n",
      "        \n",
      "    def __repr__(self):\n",
      "        return \"%s - %s -- %s _ %s\" % (self.char, self.freq, self.left, self.right)\n",
      "    \n",
      "    def __cmp__(self,other_node):\n",
      "        return cmp(self.freq, other_node.freq)\n",
      "    \n",
      "    def insert(self, other_node):\n",
      "# Compare the new value with the parent node\n",
      "        if self.freq:\n",
      "            if other_node < self:\n",
      "                if self.left is None:\n",
      "                    self.left = other_node\n",
      "                else:\n",
      "                    self.left.insert(other_node)\n",
      "            elif other_node > self:\n",
      "                if self.right is None:\n",
      "                    self.right = other_node\n",
      "                else:\n",
      "                    self.right.insert(other_node)\n",
      "        else:\n",
      "            self = other_node\n",
      "    \n",
      "    def print_tree(self,count = 1, pos = 'mid'):\n",
      "        if self.left:\n",
      "            self.left.print_tree(count + 2, 'left')\n",
      "#         print(' ' * count + str(self.char))\n",
      "        text = str(self.char)\n",
      "        if pos == 'mid':\n",
      "            print(text)\n",
      "        elif pos == 'left':\n",
      "            print(' ' * count + text)\n",
      "        elif pos == 'right':\n",
      "            print('| ' + text)\n",
      "        if self.right:\n",
      "            self.right.print_tree(count + 2, 'left')\n",
      "            \n",
      "\n",
      "def textfile_to_str():\n",
      "        file_name = 'pride_and_prejudice_ch_1.txt'\n",
      "        file_to_open = Path(\"../algorithms_app/text/\" + file_name)\n",
      "        print(\"Opening the file to read in characters\")\n",
      "\n",
      "        data = str()\n",
      "        with open(str(file_to_open), 'r') as file:\n",
      "                data = file.read().replace('\\n', '')\n",
      "        return(data)\n",
      "\n",
      "def str_to_count_df(text_string):\n",
      "        char_df = pd.DataFrame(list(text_string), columns = ['char'])\n",
      "        grouped_df = char_df.groupby('char').size().reset_index(name = \"freq\").sort_values(by = ['freq', 'char'], ascending = False).reset_index()\n",
      "        print(\"Here are the most frequent characters in the file:\\n\")\n",
      "        print(grouped_df.head())\n",
      "        return grouped_df\n"
     ],
     "language": "python",
     "metadata": {},
     "outputs": [],
     "prompt_number": 411
    },
    {
     "cell_type": "code",
     "collapsed": false,
     "input": [
      "data = textfile_to_str()\n",
      "count_df = str_to_count_df(data)\n",
      "count_df['prefix_code'] = None\n"
     ],
     "language": "python",
     "metadata": {},
     "outputs": [
      {
       "output_type": "stream",
       "stream": "stdout",
       "text": [
        "Opening the file to read in characters\n",
        "Here are the most frequent characters in the file:\n",
        "\n",
        "   index char  freq\n",
        "0      0        813\n",
        "1     27    e   406\n",
        "2     42    t   278\n",
        "3     37    o   278\n",
        "4     36    n   245"
       ]
      },
      {
       "output_type": "stream",
       "stream": "stdout",
       "text": [
        "\n"
       ]
      }
     ],
     "prompt_number": 282
    },
    {
     "cell_type": "code",
     "collapsed": false,
     "input": [
      "node_list = []\n",
      "count_df = count_df.head(2)\n",
      "if len(count_df['char']) <= 2:\n",
      "    for i, row in count_df.iterrows():\n",
      "        new_node = Node(row['char'], row['freq'])\n",
      "        new_node.set_prefix_part(i)\n",
      "        node_list.append(new_node)\n",
      "        print(i)\n",
      "\n",
      "print(node_list)\n",
      "            \n",
      "    "
     ],
     "language": "python",
     "metadata": {},
     "outputs": [
      {
       "output_type": "stream",
       "stream": "stdout",
       "text": [
        "0\n",
        "1\n",
        "[  - 813 -- None _ None, e - 406 -- None _ None]\n"
       ]
      }
     ],
     "prompt_number": 267
    },
    {
     "cell_type": "code",
     "collapsed": false,
     "input": [
      "small_df = count_df.head(2)\n",
      "if len(small_df['char']) <= 2:\n",
      "   for i,row in small_df.iterrows():\n",
      "        small_df.loc[i,'prefix_code']  =  i\n",
      "small_df"
     ],
     "language": "python",
     "metadata": {},
     "outputs": [
      {
       "output_type": "stream",
       "stream": "stdout",
       "text": [
        "0\n",
        "1\n"
       ]
      },
      {
       "html": [
        "<div>\n",
        "<style scoped>\n",
        "    .dataframe tbody tr th:only-of-type {\n",
        "        vertical-align: middle;\n",
        "    }\n",
        "\n",
        "    .dataframe tbody tr th {\n",
        "        vertical-align: top;\n",
        "    }\n",
        "\n",
        "    .dataframe thead th {\n",
        "        text-align: right;\n",
        "    }\n",
        "</style>\n",
        "<table border=\"1\" class=\"dataframe\">\n",
        "  <thead>\n",
        "    <tr style=\"text-align: right;\">\n",
        "      <th></th>\n",
        "      <th>index</th>\n",
        "      <th>char</th>\n",
        "      <th>freq</th>\n",
        "      <th>prefix_code</th>\n",
        "    </tr>\n",
        "  </thead>\n",
        "  <tbody>\n",
        "    <tr>\n",
        "      <th>0</th>\n",
        "      <td>0</td>\n",
        "      <td></td>\n",
        "      <td>813</td>\n",
        "      <td>0</td>\n",
        "    </tr>\n",
        "    <tr>\n",
        "      <th>1</th>\n",
        "      <td>27</td>\n",
        "      <td>e</td>\n",
        "      <td>406</td>\n",
        "      <td>1</td>\n",
        "    </tr>\n",
        "  </tbody>\n",
        "</table>\n",
        "</div>"
       ],
       "metadata": {},
       "output_type": "pyout",
       "prompt_number": 277,
       "text": [
        "   index char  freq  prefix_code\n",
        "0      0        813            0\n",
        "1     27    e   406            1"
       ]
      }
     ],
     "prompt_number": 277
    },
    {
     "cell_type": "code",
     "collapsed": false,
     "input": [],
     "language": "python",
     "metadata": {},
     "outputs": [
      {
       "ename": "TypeError",
       "evalue": "__init__() takes exactly 3 arguments (1 given)",
       "output_type": "pyerr",
       "traceback": [
        "\u001b[0;31m---------------------------------------------------------------------------\u001b[0m\n\u001b[0;31mTypeError\u001b[0m                                 Traceback (most recent call last)",
        "\u001b[0;32m<ipython-input-278-4b633541f268>\u001b[0m in \u001b[0;36m<module>\u001b[0;34m()\u001b[0m\n\u001b[0;32m----> 1\u001b[0;31m \u001b[0mtest_tree\u001b[0m \u001b[0;34m=\u001b[0m \u001b[0mNode\u001b[0m\u001b[0;34m(\u001b[0m\u001b[0;34m)\u001b[0m\u001b[0;34m\u001b[0m\u001b[0m\n\u001b[0m",
        "\u001b[0;31mTypeError\u001b[0m: __init__() takes exactly 3 arguments (1 given)"
       ]
      }
     ],
     "prompt_number": 278
    },
    {
     "cell_type": "code",
     "collapsed": false,
     "input": [
      "node_queue = []\n",
      "for i, row in count_df.iterrows():\n",
      "    new_node = Node(row['char'],row['freq'])\n",
      "    node_queue.append(new_node)\n",
      "\n",
      "print(node_queue[:5])\n",
      "\n",
      "temp_node_queue = list(node_queue)"
     ],
     "language": "python",
     "metadata": {},
     "outputs": [
      {
       "output_type": "stream",
       "stream": "stdout",
       "text": [
        "[  - 813 -- None _ None, e - 406 -- None _ None, t - 278 -- None _ None, o - 278 -- None _ None, n - 245 -- None _ None]\n"
       ]
      }
     ],
     "prompt_number": 285
    },
    {
     "cell_type": "code",
     "collapsed": false,
     "input": [
      "tree = Node(None,None)\n",
      "if len(temp_node_queue) <=2:\n",
      "    for i, node in enumerate(temp_node_queue):\n",
      "        node = node.set_prefix_part(i)\n",
      "        tree.insert(node)\n",
      "else:\n",
      "    y = temp_node_queue[-1]\n",
      "    z = temp_node_queue[-2]\n",
      "    print(y)\n",
      "    print(z)"
     ],
     "language": "python",
     "metadata": {},
     "outputs": [
      {
       "output_type": "stream",
       "stream": "stdout",
       "text": [
        "E - 1 -- None _ None\n",
        "J - 1 -- None _ None\n"
       ]
      }
     ],
     "prompt_number": 296
    },
    {
     "cell_type": "code",
     "collapsed": false,
     "input": [
      "class Binary_Freq_Heap:\n",
      "    def __init__(self):\n",
      "        self.heap_list = [0]\n",
      "        self.current_size = 0\n",
      "        \n",
      "    def bubble_up(self,i):\n",
      "        while i // 2 > 0:\n",
      "          if self.heap_list[i] < self.heap_list[i // 2]:\n",
      "             temp_spot = self.heap_list[i // 2]\n",
      "             self.heap_list[i // 2] = self.heap_list[i]\n",
      "             self.heap_list[i] = temp_spot\n",
      "          i = i // 2\n",
      "\n",
      "    def insert(self,freq):\n",
      "        self.heap_list.append(freq)\n",
      "        self.current_size = self.current_size + 1\n",
      "        self.bubble_up(self.current_size)\n",
      "        \n",
      "    def bubble_down(self,i):\n",
      "        while (i * 2) <= self.current_size:\n",
      "            smallest = self.get_smallest_freq(i)\n",
      "            if self.heap_list[i] > self.heap_list[smallest]:\n",
      "                temp_spot = self.heap_list[i]\n",
      "                self.heap_list[i] = self.heap_list[smallest]\n",
      "                self.heap_list[smallest] = temp_spot\n",
      "            i = smallest\n",
      "        \n",
      "    def get_smallest_freq(self,i):\n",
      "        if i * 2 + 1 > self.current_size:\n",
      "            return i * 2\n",
      "        else:\n",
      "            if self.heap_list[i*2] < self.heap_list[i*2+1]:\n",
      "                return i * 2\n",
      "            else:\n",
      "                return i * 2 + 1\n",
      "\n",
      "    def delete_smallest(self):\n",
      "        deleted = self.heap_list[1]\n",
      "        self.heap_list[1] = self.heap_list[self.current_size]\n",
      "        self.current_size = self.current_size - 1\n",
      "        self.heap_list.pop()\n",
      "        self.bubble_down(1)\n",
      "        return deleted\n",
      "\n",
      "    def build_freq_heap(self,freq_list):\n",
      "        i = len(freq_list) // 2\n",
      "        self.current_size = len(freq_list)\n",
      "        self.heap_list = [0] + freq_list[:]\n",
      "        while (i > 0):\n",
      "            self.bubble_down(i)\n",
      "            i = i - 1"
     ],
     "language": "python",
     "metadata": {},
     "outputs": [],
     "prompt_number": 412
    },
    {
     "cell_type": "code",
     "collapsed": false,
     "input": [
      "class Binary_Node_Heap:\n",
      "    def __init__(self):\n",
      "        self.heap_list = [Node(None,None)]\n",
      "        self.current_size = 0\n",
      "        \n",
      "    def bubble_up(self,i):\n",
      "        while i // 2 > 0:\n",
      "          if self.heap_list[i] < self.heap_list[i // 2]:\n",
      "             temp_spot = self.heap_list[i // 2]\n",
      "             self.heap_list[i // 2] = self.heap_list[i]\n",
      "             self.heap_list[i] = temp_spot\n",
      "          i = i // 2\n",
      "\n",
      "    def insert(self,node):\n",
      "        self.heap_list.append(node)\n",
      "        self.current_size = self.current_size + 1\n",
      "        self.bubble_up(self.current_size)\n",
      "        \n",
      "    def bubble_down(self,i):\n",
      "        while (i * 2) <= self.current_size:\n",
      "            smallest = self.get_smallest_node(i)\n",
      "            if self.heap_list[i] > self.heap_list[smallest]:\n",
      "                temp_spot = self.heap_list[i]\n",
      "                self.heap_list[i] = self.heap_list[smallest]\n",
      "                self.heap_list[smallest] = temp_spot\n",
      "            i = smallest\n",
      "        \n",
      "    def get_smallest_node(self,i):\n",
      "        if i * 2 + 1 > self.current_size:\n",
      "            return i * 2\n",
      "        else:\n",
      "            if self.heap_list[i*2] < self.heap_list[i*2+1]:\n",
      "                return i * 2\n",
      "            else:\n",
      "                return i * 2 + 1\n",
      "\n",
      "    def delete_smallest_node(self):\n",
      "        deleted = self.heap_list[1]\n",
      "        self.heap_list[1] = self.heap_list[self.current_size]\n",
      "        self.current_size = self.current_size - 1\n",
      "        self.heap_list.pop()\n",
      "        self.bubble_down(1)\n",
      "        return deleted\n",
      "\n",
      "    def build_node_heap(self,node_list):\n",
      "        i = len(node_list) // 2\n",
      "        self.current_size = len(node_list)\n",
      "        self.heap_list = [0] + node_list[:]\n",
      "        while (i > 0):\n",
      "            self.bubble_down(i)\n",
      "            i = i - 1"
     ],
     "language": "python",
     "metadata": {},
     "outputs": [],
     "prompt_number": 476
    },
    {
     "cell_type": "code",
     "collapsed": false,
     "input": [
      "node_queue = []\n",
      "for i, row in count_df.iterrows():\n",
      "    new_node = Node(row['char'],row['freq'])\n",
      "    node_queue.append(new_node)\n",
      "\n",
      "print(node_queue[:5])\n",
      "\n",
      "temp_node_queue = list(node_queue)\n",
      "\n",
      "temp_node_queue[0].freq"
     ],
     "language": "python",
     "metadata": {},
     "outputs": [
      {
       "output_type": "stream",
       "stream": "stdout",
       "text": [
        "[  - 813 -- None _ None, e - 406 -- None _ None, t - 278 -- None _ None, o - 278 -- None _ None, n - 245 -- None _ None]\n"
       ]
      },
      {
       "metadata": {},
       "output_type": "pyout",
       "prompt_number": 477,
       "text": [
        "813"
       ]
      }
     ],
     "prompt_number": 477
    },
    {
     "cell_type": "code",
     "collapsed": false,
     "input": [
      "node_heap = Binary_Node_Heap()\n",
      "node_heap.build_node_heap(temp_node_queue)"
     ],
     "language": "python",
     "metadata": {},
     "outputs": [],
     "prompt_number": 478
    },
    {
     "cell_type": "code",
     "collapsed": false,
     "input": [
      "def children(node_heap, position):\n",
      "    node_list = node_heap.heap_list\n",
      "    size = node_heap.current_size\n",
      "    if position > size - 1:\n",
      "       print(\"There is no node at this heap position\", position)\n",
      "       return\n",
      "    else:\n",
      "       print(\"Parent\", node_list[position])\n",
      "             \n",
      "    if (2*position+1) > size-1:\n",
      "        print(\"no children for this node\")\n",
      "        return [None,None]\n",
      "    else:\n",
      "        print(\"Left Child\",node_list[2*position+1])\n",
      "        if not((2*position+2) > size-1):\n",
      "           print(\"Right Child\",node_list[2*position +2])\n",
      "    return [node_list[2*position+1],node_list[2*position +2]]\n",
      "    "
     ],
     "language": "python",
     "metadata": {},
     "outputs": [],
     "prompt_number": 479
    },
    {
     "cell_type": "code",
     "collapsed": false,
     "input": [
      "# print(node_heap.heap_list)\n",
      "# node_heap.heap_list\n",
      "\n",
      "temp_list = node_heap.heap_list\n",
      "\n",
      "for i, node in enumerate(temp_list): \n",
      "    [left, right] = children(node_heap, i)\n",
      "    temp_list[i].set_children(left,right)\n",
      "\n",
      "print(temp_list)"
     ],
     "language": "python",
     "metadata": {},
     "outputs": [
      {
       "output_type": "stream",
       "stream": "stdout",
       "text": [
        "('Parent', 0)\n",
        "('Left Child', E - 1 -- None _ None)\n",
        "('Right Child', q - 2 -- None _ None)\n"
       ]
      },
      {
       "ename": "AttributeError",
       "evalue": "'int' object has no attribute 'set_children'",
       "output_type": "pyerr",
       "traceback": [
        "\u001b[0;31m---------------------------------------------------------------------------\u001b[0m\n\u001b[0;31mAttributeError\u001b[0m                            Traceback (most recent call last)",
        "\u001b[0;32m<ipython-input-480-203976a569a9>\u001b[0m in \u001b[0;36m<module>\u001b[0;34m()\u001b[0m\n\u001b[1;32m      6\u001b[0m \u001b[0;32mfor\u001b[0m \u001b[0mi\u001b[0m\u001b[0;34m,\u001b[0m \u001b[0mnode\u001b[0m \u001b[0;32min\u001b[0m \u001b[0menumerate\u001b[0m\u001b[0;34m(\u001b[0m\u001b[0mtemp_list\u001b[0m\u001b[0;34m)\u001b[0m\u001b[0;34m:\u001b[0m\u001b[0;34m\u001b[0m\u001b[0m\n\u001b[1;32m      7\u001b[0m     \u001b[0;34m[\u001b[0m\u001b[0mleft\u001b[0m\u001b[0;34m,\u001b[0m \u001b[0mright\u001b[0m\u001b[0;34m]\u001b[0m \u001b[0;34m=\u001b[0m \u001b[0mchildren\u001b[0m\u001b[0;34m(\u001b[0m\u001b[0mnode_heap\u001b[0m\u001b[0;34m,\u001b[0m \u001b[0mi\u001b[0m\u001b[0;34m)\u001b[0m\u001b[0;34m\u001b[0m\u001b[0m\n\u001b[0;32m----> 8\u001b[0;31m     \u001b[0mtemp_list\u001b[0m\u001b[0;34m[\u001b[0m\u001b[0mi\u001b[0m\u001b[0;34m]\u001b[0m\u001b[0;34m.\u001b[0m\u001b[0mset_children\u001b[0m\u001b[0;34m(\u001b[0m\u001b[0mleft\u001b[0m\u001b[0;34m,\u001b[0m\u001b[0mright\u001b[0m\u001b[0;34m)\u001b[0m\u001b[0;34m\u001b[0m\u001b[0m\n\u001b[0m\u001b[1;32m      9\u001b[0m \u001b[0;34m\u001b[0m\u001b[0m\n\u001b[1;32m     10\u001b[0m \u001b[0;32mprint\u001b[0m\u001b[0;34m(\u001b[0m\u001b[0mtemp_list\u001b[0m\u001b[0;34m)\u001b[0m\u001b[0;34m\u001b[0m\u001b[0m\n",
        "\u001b[0;31mAttributeError\u001b[0m: 'int' object has no attribute 'set_children'"
       ]
      }
     ],
     "prompt_number": 480
    },
    {
     "cell_type": "code",
     "collapsed": false,
     "input": [],
     "language": "python",
     "metadata": {},
     "outputs": [],
     "prompt_number": 315
    },
    {
     "cell_type": "code",
     "collapsed": false,
     "input": [],
     "language": "python",
     "metadata": {},
     "outputs": []
    }
   ],
   "metadata": {}
  }
 ]
}