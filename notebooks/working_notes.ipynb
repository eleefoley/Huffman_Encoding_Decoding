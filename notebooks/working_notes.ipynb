{
 "metadata": {
  "kernelspec": {
   "display_name": "Python 3",
   "language": "python",
   "name": "python3"
  },
  "name": "",
  "signature": "sha256:18cc2268e0e69f01ffa53c80592f7f4aae0c11247ddb39ffc6be5d4486715ce7"
 },
 "nbformat": 3,
 "nbformat_minor": 0,
 "worksheets": [
  {
   "cells": [
    {
     "cell_type": "code",
     "collapsed": false,
     "input": [
      "import random\n",
      "import math"
     ],
     "language": "python",
     "metadata": {},
     "outputs": [],
     "prompt_number": 129
    },
    {
     "cell_type": "code",
     "collapsed": false,
     "input": [
      "\n",
      "\n",
      "# split = unsorted_list[0]\n",
      "def select(S,k):\n",
      "    print(\"We're looking for the \" + str(k) +\"th element of \" + str(S))\n",
      "    \n",
      "    if len(S) == 1:\n",
      "#         assert k == 0\n",
      "        return S[0]\n",
      "    \n",
      "    if len(S) > 1 and all(element == S[0] for element in S):\n",
      "        return S[0]\n",
      "    \n",
      "    split = random.choice(S)\n",
      "\n",
      "    print(\"     We choose a random element to compare the others against, \" + str(split))\n",
      "    s_minus = []\n",
      "    s_plus = []\n",
      "    s_equal = []\n",
      "    \n",
      "    for i in S:\n",
      "            if i < split:\n",
      "                s_minus.append(i)\n",
      "            elif i > split:\n",
      "                s_plus.append(i)\n",
      "            elif i == split:\n",
      "                s_equal.append(i)\n",
      "    \n",
      "    l = len(s_minus)\n",
      "    #print(l)\n",
      "    if l >= k:\n",
      "        print(\"     There are more than \" + str(k) + \" smaller values, so let's look inside that sub-list, s_minus\")\n",
      "        return select(s_minus, k)\n",
      "    elif l >= k - len(s_equal):\n",
      "        print(\"     There are \" + str(l) + \" smaller values, so it is the one we're looking for\")\n",
      "        return split\n",
      "    else:\n",
      "        print(\"     There are than \" + str(len(s_plus)) + \" larger values, so let's look inside the other sub-list, s_plus\")\n",
      "        return select(s_plus,k-l-len(s_equal))"
     ],
     "language": "python",
     "metadata": {},
     "outputs": [],
     "prompt_number": 303
    },
    {
     "cell_type": "code",
     "collapsed": false,
     "input": [
      "# given a lenght, generate a random \n",
      "def random_unsorted_list(n, max_val):\n",
      "        test_list = []\n",
      "        for i in range(n):\n",
      "                test_list.append(random.choice(range(2,max_val)))\n",
      "        print(test_list)\n",
      "        return test_list\n",
      "\n",
      "# # given a lenght, generate a random \n",
      "# def random_unsorted_list(n, max_val):\n",
      "#         test_list = []\n",
      "#         for i in range(n):\n",
      "#                 test_list.append(random.choice(range(2,max_val)))\n",
      "#         print(test_list)\n",
      "#         return test_list\n",
      "\n",
      "\n",
      "# test the select function for randomized median finding\n",
      "def test_select():\n",
      "        print(\"testing select function for randomized median finding\")\n",
      "        for i in random_unsorted_list(5,10):\n",
      "                unsorted_list = random_unsorted_list(i,100)\n",
      "                list_len = len(unsorted_list)\n",
      "                if(list_len % 2 == 0):\n",
      "                        print('even')\n",
      "                if list_len == 1:\n",
      "                    k = 0\n",
      "                else:\n",
      "                    k =  random.choice(range(1,list_len-1))\n",
      "#                 k = 2\n",
      "                print(k)\n",
      "                my_kth = select(unsorted_list, k, splitter)\n",
      "\n",
      "                sorted_list = list(unsorted_list)\n",
      "                sorted_list.sort()\n",
      "                true_kth = sorted_list[k-1]\n",
      "\n",
      "                if my_kth != true_kth:\n",
      "                        print(\" select function failed to find the \" + str(k) + \"th element  for array \" + str(unsorted_list) + \"\\n\")\n",
      "                        print(str(my_kth) + \" != \" + str(true_kth))\n",
      "                        print(\"\\n\")\n",
      "                        return False\n",
      "        print(\" select function successfully finds the kth element\")\n",
      "        print(\"\\n\")\n",
      "        return True\n",
      "\n",
      "# run all the tests, returning True if they pass, Fail if they do not\n",
      "def run_tests():\n",
      "        print(\"Running tests\")\n",
      "        select = test_select()\n",
      "        if(select == False):\n",
      "                print(\" Failed one or more tests\")\n",
      "        else:\n",
      "                print(\" All tests passed\")\n"
     ],
     "language": "python",
     "metadata": {},
     "outputs": [],
     "prompt_number": 147
    },
    {
     "cell_type": "code",
     "collapsed": false,
     "input": [
      "S = [8,8,8,8]\n",
      "if all(element == S[0] for element in S):\n",
      "        print(True)"
     ],
     "language": "python",
     "metadata": {},
     "outputs": [
      {
       "output_type": "stream",
       "stream": "stdout",
       "text": [
        "True\n"
       ]
      }
     ],
     "prompt_number": 224
    },
    {
     "cell_type": "code",
     "collapsed": false,
     "input": [
      "for i in range(1,5):\n",
      "    unsorted_list = random_unsorted_list(i,100)\n",
      "    x = list(unsorted_list)\n",
      "    x.sort()\n",
      "    for i in range(1,len(unsorted_list)):\n",
      "        my_kth = select(unsorted_list, i)\n",
      "        true_kth = x[i-1]\n",
      "        if(my_kth != true_kth):\n",
      "            print(\"##########################FAIL######################\")\n",
      "            print(\"\\n\")"
     ],
     "language": "python",
     "metadata": {},
     "outputs": []
    },
    {
     "cell_type": "code",
     "collapsed": false,
     "input": [
      "def quicksort(S):\n",
      "    n = len(S)\n",
      "#     print(n)\n",
      "    if n == 1:\n",
      "        return S\n",
      "    elif n <= 3:\n",
      "        temp_1 = []\n",
      "        temp_2 = list(S)\n",
      "#         print temp_2\n",
      "        for i in range(0,n):\n",
      "            min_value = min(temp_2)\n",
      "            temp_2.remove(min_value)\n",
      "            temp_1.append(min_value)\n",
      "#             print(temp_1)\n",
      "        S = temp_1\n",
      "        return S\n",
      "    else:\n",
      "        s_minus = []\n",
      "        s_plus = []\n",
      "        s_equal = []\n",
      "        \n",
      "        midpoint = n//2 + 1\n",
      "        # use the select function that we wrote for randomized median finding to get us to the right pivot point from the get-go\n",
      "        split = select(S,midpoint)\n",
      "        print(\"The median is \" + str(split))\n",
      "#         found = False\n",
      "        for i in S:\n",
      "            if i < split:\n",
      "                s_minus.append(i)\n",
      "            elif i > split:\n",
      "                s_plus.append(i)\n",
      "            elif i == split:\n",
      "                s_equal.append(i)\n",
      "            \n",
      "            if (len(s_minus) >= (n/4)) and (len(s_plus) >= (n/4)):\n",
      "                found = True\n",
      "#                 print(\"Found the central splitter\")\n",
      "        s_minus = Quicksort(s_minus)\n",
      "        s_plus = Quicksort(s_plus)\n",
      "        \n",
      "#         print(s_minus)\n",
      "#         print(s_plus)\n",
      "#         print(s_equal)\n",
      "        sorted_list = list(s_minus)\n",
      "#         print(sorted_list)\n",
      "        sorted_list = sorted_list + s_equal\n",
      "#         print(sorted_list)\n",
      "        sorted_list = sorted_list + s_plus\n",
      "#         print(sorted_list)\n",
      "        return sorted_list"
     ],
     "language": "python",
     "metadata": {},
     "outputs": [],
     "prompt_number": 315
    },
    {
     "cell_type": "code",
     "collapsed": false,
     "input": [
      "unsorted_list = [2,2,3,1]\n",
      "\n",
      "print(Quicksort(unsorted_list))"
     ],
     "language": "python",
     "metadata": {},
     "outputs": [
      {
       "output_type": "stream",
       "stream": "stdout",
       "text": [
        "We're looking for the 3th element of [2, 2, 3, 1]\n",
        "     We choose a random element to compare the others against, 2\n",
        "     There are 1 smaller values, so it is the one we're looking for\n",
        "The median is 2\n",
        "[1]\n",
        "[3]\n",
        "[2, 2]\n",
        "[1]\n",
        "[1, 2, 2]\n",
        "[1, 2, 2, 3]\n"
       ]
      }
     ],
     "prompt_number": 316
    },
    {
     "cell_type": "code",
     "collapsed": false,
     "input": [
      "s_plus = [2,2,2]\n",
      "s_minus = [3,3]\n",
      "split = [1]\n",
      "\n",
      "sorted_list = list(s_minus)\n",
      "print(sorted_list)\n",
      "sorted_list = sorted_list + split\n",
      "print(sorted_list)\n",
      "sorted_list = sorted_list + s_plus\n",
      "print(sorted_list)\n",
      "len(sorted_list)//2 + 1"
     ],
     "language": "python",
     "metadata": {},
     "outputs": [
      {
       "output_type": "stream",
       "stream": "stdout",
       "text": [
        "[3, 3]\n",
        "[3, 3, 1]\n",
        "[3, 3, 1, 2, 2, 2]\n"
       ]
      },
      {
       "metadata": {},
       "output_type": "pyout",
       "prompt_number": 317,
       "text": [
        "4"
       ]
      }
     ],
     "prompt_number": 317
    },
    {
     "cell_type": "code",
     "collapsed": false,
     "input": [
      "for i in range(1,5):\n",
      "    unsorted_list = random_unsorted_list(i,100)\n",
      "    sorted_list = list(unsorted_list)\n",
      "    sorted_list.sort()\n",
      "    for i in range(1,len(unsorted_list)):\n",
      "        my_sorted = Quicksort(unsorted_list)\n",
      "        true_sorted = sorted_list\n",
      "        if(my_sorted != true_sorted):\n",
      "            print(\"##########################FAIL######################\")\n",
      "            print(\"\\n\")"
     ],
     "language": "python",
     "metadata": {},
     "outputs": [
      {
       "output_type": "stream",
       "stream": "stdout",
       "text": [
        "[20]\n",
        "[58, 18]\n",
        "[51, 41, 44]\n",
        "[59, 66, 34, 88]\n",
        "We're looking for the 3th element of [59, 66, 34, 88]\n",
        "     We choose a random element to compare the others against, 34\n",
        "     There are than 3 larger values, so let's look inside the other sub-list, s_plus\n",
        "We're looking for the 2th element of [59, 66, 88]\n",
        "     We choose a random element to compare the others against, 66\n",
        "     There are 1 smaller values, so it is the one we're looking for\n",
        "The median is 66\n",
        "[34, 59]\n",
        "[88]\n",
        "[66]\n",
        "[34, 59]\n",
        "[34, 59, 66]\n",
        "We're looking for the 3th element of [59, 66, 34, 88]\n",
        "     We choose a random element to compare the others against, 59\n",
        "     There are than 2 larger values, so let's look inside the other sub-list, s_plus\n",
        "We're looking for the 1th element of [66, 88]\n",
        "     We choose a random element to compare the others against, 66\n",
        "     There are 0 smaller values, so it is the one we're looking for\n",
        "The median is 66\n",
        "[34, 59]\n",
        "[88]\n",
        "[66]\n",
        "[34, 59]\n",
        "[34, 59, 66]\n",
        "We're looking for the 3th element of [59, 66, 34, 88]\n",
        "     We choose a random element to compare the others against, 66\n",
        "     There are 2 smaller values, so it is the one we're looking for\n",
        "The median is 66\n",
        "[34, 59]\n",
        "[88]\n",
        "[66]\n",
        "[34, 59]\n",
        "[34, 59, 66]\n"
       ]
      }
     ],
     "prompt_number": 318
    },
    {
     "cell_type": "code",
     "collapsed": false,
     "input": [],
     "language": "python",
     "metadata": {},
     "outputs": []
    }
   ],
   "metadata": {}
  }
 ]
}