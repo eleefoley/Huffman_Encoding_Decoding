{
 "metadata": {
  "kernelspec": {
   "display_name": "Python 3",
   "language": "python",
   "name": "python3"
  },
  "name": "",
  "signature": "sha256:0913720357beca5704f608b5fda76d3ef09ec1a0ae294f3d027c63958d01fa68"
 },
 "nbformat": 3,
 "nbformat_minor": 0,
 "worksheets": [
  {
   "cells": [
    {
     "cell_type": "code",
     "collapsed": false,
     "input": [
      "import random\n",
      "import math"
     ],
     "language": "python",
     "metadata": {},
     "outputs": [],
     "prompt_number": 1
    },
    {
     "cell_type": "code",
     "collapsed": false,
     "input": [
      "def select(S,k, print_mode):\n",
      "        if print_mode == True:\n",
      "                print(\"We're looking for the \" + str(k) +\"th element of \" + str(S))\n",
      "\n",
      "        if len(S) == 1:\n",
      "#         assert k == 0\n",
      "                return S[0]\n",
      "\n",
      "        if len(S) > 1 and all(element == S[0] for element in S):\n",
      "                return S[0]\n",
      "\n",
      "        split = random.choice(S)\n",
      "        if print_mode == True:\n",
      "                print(\"     We choose a random element to compare the others against, \" + str(split))\n",
      "        s_minus = []\n",
      "        s_plus = []\n",
      "        s_equal = []\n",
      "\n",
      "        for i in S:\n",
      "                if i < split:\n",
      "                        s_minus.append(i)\n",
      "                elif i > split:\n",
      "                        s_plus.append(i)\n",
      "                elif i == split:\n",
      "                        s_equal.append(i)\n",
      "\n",
      "        l = len(s_minus)\n",
      "\n",
      "        if l >= k:\n",
      "                if print_mode == True:\n",
      "                        print(\"     There are more than \" + str(k) + \" smaller values, so let's look inside that sub-list, s_minus\")\n",
      "                return select(s_minus, k, print_mode)\n",
      "        elif l >= k - len(s_equal):\n",
      "                if print_mode == True:\n",
      "                        print(\"     There are \" + str(l) + \" smaller values, so it is the one we're looking for\")\n",
      "                return split\n",
      "        else:\n",
      "                if print_mode == True:\n",
      "                        print(\"     There are than \" + str(len(s_plus)) + \" larger values, so let's look inside the other sub-list, s_plus\")\n",
      "                return select(s_plus,k-l-len(s_equal), print_mode)\n",
      "\n"
     ],
     "language": "python",
     "metadata": {},
     "outputs": [],
     "prompt_number": 2
    },
    {
     "cell_type": "code",
     "collapsed": false,
     "input": [
      "# given a lenght, generate a random \n",
      "def random_unsorted_list(n, max_val):\n",
      "        test_list = []\n",
      "        for i in range(n):\n",
      "                test_list.append(random.choice(range(2,max_val)))\n",
      "        print(test_list)\n",
      "        return test_list\n",
      "\n",
      "# # given a lenght, generate a random \n",
      "# def random_unsorted_list(n, max_val):\n",
      "#         test_list = []\n",
      "#         for i in range(n):\n",
      "#                 test_list.append(random.choice(range(2,max_val)))\n",
      "#         print(test_list)\n",
      "#         return test_list\n",
      "\n",
      "\n",
      "# test the select function for randomized median finding\n",
      "def test_select():\n",
      "        print(\"testing select function for randomized median finding\")\n",
      "        for i in random_unsorted_list(5,10):\n",
      "                unsorted_list = random_unsorted_list(i,100)\n",
      "                list_len = len(unsorted_list)\n",
      "                if(list_len % 2 == 0):\n",
      "                        print('even')\n",
      "                if list_len == 1:\n",
      "                    k = 0\n",
      "                else:\n",
      "                    k =  random.choice(range(1,list_len-1))\n",
      "#                 k = 2\n",
      "                print(k)\n",
      "                my_kth = select(unsorted_list, k, splitter)\n",
      "\n",
      "                sorted_list = list(unsorted_list)\n",
      "                sorted_list.sort()\n",
      "                true_kth = sorted_list[k-1]\n",
      "\n",
      "                if my_kth != true_kth:\n",
      "                        print(\" select function failed to find the \" + str(k) + \"th element  for array \" + str(unsorted_list) + \"\\n\")\n",
      "                        print(str(my_kth) + \" != \" + str(true_kth))\n",
      "                        print(\"\\n\")\n",
      "                        return False\n",
      "        print(\" select function successfully finds the kth element\")\n",
      "        print(\"\\n\")\n",
      "        return True\n",
      "\n",
      "# run all the tests, returning True if they pass, Fail if they do not\n",
      "def run_tests():\n",
      "        print(\"Running tests\")\n",
      "        select = test_select()\n",
      "        if(select == False):\n",
      "                print(\" Failed one or more tests\")\n",
      "        else:\n",
      "                print(\" All tests passed\")\n"
     ],
     "language": "python",
     "metadata": {},
     "outputs": [],
     "prompt_number": 3
    },
    {
     "cell_type": "code",
     "collapsed": false,
     "input": [
      "S = [8,8,8,8]\n",
      "if all(element == S[0] for element in S):\n",
      "        print(True)"
     ],
     "language": "python",
     "metadata": {},
     "outputs": [
      {
       "output_type": "stream",
       "stream": "stdout",
       "text": [
        "True\n"
       ]
      }
     ],
     "prompt_number": 4
    },
    {
     "cell_type": "code",
     "collapsed": false,
     "input": [
      "def quicksort(S,print_mode):\n",
      "    if print_mode == True:\n",
      "        print(\"We're using the result of our randomized median function to help us recursively sort the list \" + str(S))\n",
      "    n = len(S)\n",
      "#     print(n)\n",
      "    if n == 1:\n",
      "        return S\n",
      "    elif n <= 3:\n",
      "        if print_mode == True:\n",
      "            print(\"    The list is only one element long, so no need to sort\")\n",
      "        temp_1 = []\n",
      "        temp_2 = list(S)\n",
      "#         print temp_2\n",
      "        for i in range(0,n):\n",
      "            min_value = min(temp_2)\n",
      "            temp_2.remove(min_value)\n",
      "            temp_1.append(min_value)\n",
      "#             print(temp_1)\n",
      "        S = temp_1\n",
      "        return S\n",
      "    else:\n",
      "        s_minus = []\n",
      "        s_plus = []\n",
      "        s_equal = []\n",
      "\n",
      "        midpoint = n//2 + 1\n",
      "        # use the select function that we wrote for randomized median finding to get us to the right pivot point from the get-go\n",
      "        split = select(S,midpoint, False)\n",
      "        if print_mode == True:\n",
      "            print(\"   The median is \" + str(split))\n",
      "#         found = False\n",
      "        for i in S:\n",
      "            if i < split:\n",
      "                s_minus.append(i)\n",
      "            elif i > split:\n",
      "                s_plus.append(i)\n",
      "            elif i == split:\n",
      "                s_equal.append(i)\n",
      "\n",
      "        if print_mode == True:\n",
      "            print(\"    Recursively use this sorting method on any values less than \" + str(split))\n",
      "        s_minus = quicksort(s_minus, print_mode)\n",
      "        if print_mode == True:\n",
      "            print(\"    Recursively use this sorting method on any values greater than \" + str(split))\n",
      "        s_plus = quicksort(s_plus, print_mode)\n",
      "\n",
      "#         print(s_minus)\n",
      "#         print(s_plus)\n",
      "#         print(s_equal)\n",
      "        if print_mode == True:\n",
      "            print(\"    Concatenating together \" + str(s_minus) + \", \" + str(s_equal) + \", \" + str(s_plus))\n",
      "        sorted_list = list(s_minus)\n",
      "#         print(sorted_list)\n",
      "        sorted_list = sorted_list + s_equal\n",
      "#         print(sorted_list)\n",
      "        sorted_list = sorted_list + s_plus\n",
      "#         print(sorted_list)\n",
      "        if print_mode == True:\n",
      "             print(\"    The sorted result is \" + str(sorted_list) + \"\\n\")\n",
      "        return sorted_list\n",
      "##########################functions used for testing#############3\n",
      "# given a lenght, generate a random \n",
      "def random_unsorted_list(n, max_val):\n",
      "        test_list = []\n",
      "        for i in range(n):\n",
      "                test_list.append(random.choice(range(2,max_val)))\n",
      "        #print(test_list)\n",
      "        return test_list\n"
     ],
     "language": "python",
     "metadata": {},
     "outputs": [],
     "prompt_number": 5
    },
    {
     "cell_type": "code",
     "collapsed": false,
     "input": [
      "unsorted_list = [2,2,3,1]\n",
      "\n",
      "print(quicksort(unsorted_list, False))"
     ],
     "language": "python",
     "metadata": {},
     "outputs": [
      {
       "output_type": "stream",
       "stream": "stdout",
       "text": [
        "[1, 2, 2, 3]\n"
       ]
      }
     ],
     "prompt_number": 6
    },
    {
     "cell_type": "code",
     "collapsed": false,
     "input": [
      "s_plus = [2,2,2]\n",
      "s_minus = [3,3]\n",
      "split = [1]\n",
      "\n",
      "sorted_list = list(s_minus)\n",
      "print(sorted_list)\n",
      "sorted_list = sorted_list + split\n",
      "print(sorted_list)\n",
      "sorted_list = sorted_list + s_plus\n",
      "print(sorted_list)\n",
      "len(sorted_list)//2 + 1"
     ],
     "language": "python",
     "metadata": {},
     "outputs": [
      {
       "output_type": "stream",
       "stream": "stdout",
       "text": [
        "[3, 3]\n",
        "[3, 3, 1]\n",
        "[3, 3, 1, 2, 2, 2]\n"
       ]
      },
      {
       "metadata": {},
       "output_type": "pyout",
       "prompt_number": 7,
       "text": [
        "4"
       ]
      }
     ],
     "prompt_number": 7
    },
    {
     "cell_type": "code",
     "collapsed": false,
     "input": [
      "for i in range(1,5):\n",
      "    unsorted_list = random_unsorted_list(i,100)\n",
      "    sorted_list = list(unsorted_list)\n",
      "    sorted_list.sort()\n",
      "    for i in range(1,len(unsorted_list)):\n",
      "        my_sorted = quicksort(unsorted_list, False)\n",
      "        true_sorted = sorted_list\n",
      "        if(my_sorted != true_sorted):\n",
      "            print(\"##########################FAIL######################\")\n",
      "            print(\"\\n\")"
     ],
     "language": "python",
     "metadata": {},
     "outputs": [],
     "prompt_number": 9
    },
    {
     "cell_type": "code",
     "collapsed": false,
     "input": [
      "def prompt():\n",
      "        print(\"Welcome to the CS 430 summer project!\")\n",
      "        done = False\n",
      "        print_mode = False\n",
      "        while(done == False):\n",
      "                response = input(\"\"\"Type the letter for what you would like to do:\n",
      "                        a:  Run in test mode\n",
      "                        b:  Choose a function to run\n",
      "                        c:  Exit the program\n",
      "                \"\"\")\n",
      "                if(response == 'c'):\n",
      "                        exit()\n",
      "                        done = True\n",
      "                elif(response == 'a'):\n",
      "                        run_tests()\n",
      "                        done = True\n",
      "                elif(response == 'b'):\n",
      "                        print_mode = True\n",
      "                        done = True\n",
      "                else:\n",
      "                        print(\"Try again\\n\")\n"
     ],
     "language": "python",
     "metadata": {},
     "outputs": [],
     "prompt_number": 10
    },
    {
     "cell_type": "code",
     "collapsed": false,
     "input": [
      "#response = input(\"Type in a list of integer values, separated by commas like this: '1,2,3,4'\")\n",
      "#unsorted_list = list(response)\n",
      "unsorted_list = list((1,8,9))\n",
      "for i in unsorted_list:\n",
      "    print(type(i))\n",
      "# unsorted_list = str(response).split(\",\")\n",
      "print(unsorted_list)\n",
      "all(isinstance(item, int) for item in unsorted_list)"
     ],
     "language": "python",
     "metadata": {},
     "outputs": [
      {
       "output_type": "stream",
       "stream": "stdout",
       "text": [
        "<type 'int'>\n",
        "<type 'int'>\n",
        "<type 'int'>\n",
        "[1, 8, 9]\n"
       ]
      },
      {
       "metadata": {},
       "output_type": "pyout",
       "prompt_number": 17,
       "text": [
        "True"
       ]
      }
     ],
     "prompt_number": 17
    },
    {
     "cell_type": "code",
     "collapsed": false,
     "input": [
      "def user_entered_list():\n",
      "    type_correct = False\n",
      "    while type_correct == False:\n",
      "        try:\n",
      "            response = input(\"Type in a list of integer values, separated by commas like this: '1,2,3,4' \")\n",
      "    #         response = tuple(response)\n",
      "            unsorted_list = list(response)\n",
      "            if all(isinstance(item, int) for item in unsorted_list) == True:\n",
      "                type_correct = True\n",
      "        except Exception as error:\n",
      "            print(error)\n",
      "    print(\"You entered: \" + str(unsorted_list))\n",
      "    return unsorted_list"
     ],
     "language": "python",
     "metadata": {},
     "outputs": [],
     "prompt_number": 54
    },
    {
     "cell_type": "code",
     "collapsed": false,
     "input": [
      "user_entered_list()"
     ],
     "language": "python",
     "metadata": {},
     "outputs": [
      {
       "name": "stdout",
       "output_type": "stream",
       "stream": "stdout",
       "text": [
        "Type in a list of integer values, separated by commas like this: '1,2,3,4' 1, 5 , 7\n"
       ]
      },
      {
       "output_type": "stream",
       "stream": "stdout",
       "text": [
        "You entered: [1, 5, 7]\n"
       ]
      },
      {
       "metadata": {},
       "output_type": "pyout",
       "prompt_number": 56,
       "text": [
        "[1, 5, 7]"
       ]
      }
     ],
     "prompt_number": 56
    },
    {
     "cell_type": "code",
     "collapsed": false,
     "input": [
      "L = list(map(int, input(\"Enter multiple values\\n\").split(', '))) \n",
      "print(\"\\nThe values of input are\", L) "
     ],
     "language": "python",
     "metadata": {},
     "outputs": [
      {
       "name": "stdout",
       "output_type": "stream",
       "stream": "stdout",
       "text": [
        "Enter multiple values\n",
        "jam, hat, 8\n"
       ]
      },
      {
       "ename": "NameError",
       "evalue": "name 'jam' is not defined",
       "output_type": "pyerr",
       "traceback": [
        "\u001b[0;31m---------------------------------------------------------------------------\u001b[0m\n\u001b[0;31mNameError\u001b[0m                                 Traceback (most recent call last)",
        "\u001b[0;32m<ipython-input-42-9f2ca30c06c2>\u001b[0m in \u001b[0;36m<module>\u001b[0;34m()\u001b[0m\n\u001b[0;32m----> 1\u001b[0;31m \u001b[0mL\u001b[0m \u001b[0;34m=\u001b[0m \u001b[0mlist\u001b[0m\u001b[0;34m(\u001b[0m\u001b[0mmap\u001b[0m\u001b[0;34m(\u001b[0m\u001b[0mint\u001b[0m\u001b[0;34m,\u001b[0m \u001b[0minput\u001b[0m\u001b[0;34m(\u001b[0m\u001b[0;34m\"Enter multiple values\\n\"\u001b[0m\u001b[0;34m)\u001b[0m\u001b[0;34m.\u001b[0m\u001b[0msplit\u001b[0m\u001b[0;34m(\u001b[0m\u001b[0;34m', '\u001b[0m\u001b[0;34m)\u001b[0m\u001b[0;34m)\u001b[0m\u001b[0;34m)\u001b[0m\u001b[0;34m\u001b[0m\u001b[0m\n\u001b[0m\u001b[1;32m      2\u001b[0m \u001b[0;32mprint\u001b[0m\u001b[0;34m(\u001b[0m\u001b[0;34m\"\\nThe values of input are\"\u001b[0m\u001b[0;34m,\u001b[0m \u001b[0mL\u001b[0m\u001b[0;34m)\u001b[0m\u001b[0;34m\u001b[0m\u001b[0m\n",
        "\u001b[0;32m/usr/lib/python2.7/dist-packages/IPython/kernel/zmq/ipkernel.pyc\u001b[0m in \u001b[0;36m<lambda>\u001b[0;34m(prompt)\u001b[0m\n\u001b[1;32m    362\u001b[0m         \u001b[0;32mif\u001b[0m \u001b[0mcontent\u001b[0m\u001b[0;34m.\u001b[0m\u001b[0mget\u001b[0m\u001b[0;34m(\u001b[0m\u001b[0;34m'allow_stdin'\u001b[0m\u001b[0;34m,\u001b[0m \u001b[0mFalse\u001b[0m\u001b[0;34m)\u001b[0m\u001b[0;34m:\u001b[0m\u001b[0;34m\u001b[0m\u001b[0m\n\u001b[1;32m    363\u001b[0m             \u001b[0mraw_input\u001b[0m \u001b[0;34m=\u001b[0m \u001b[0;32mlambda\u001b[0m \u001b[0mprompt\u001b[0m\u001b[0;34m=\u001b[0m\u001b[0;34m''\u001b[0m\u001b[0;34m:\u001b[0m \u001b[0mself\u001b[0m\u001b[0;34m.\u001b[0m\u001b[0m_raw_input\u001b[0m\u001b[0;34m(\u001b[0m\u001b[0mprompt\u001b[0m\u001b[0;34m,\u001b[0m \u001b[0mident\u001b[0m\u001b[0;34m,\u001b[0m \u001b[0mparent\u001b[0m\u001b[0;34m)\u001b[0m\u001b[0;34m\u001b[0m\u001b[0m\n\u001b[0;32m--> 364\u001b[0;31m             \u001b[0minput\u001b[0m \u001b[0;34m=\u001b[0m \u001b[0;32mlambda\u001b[0m \u001b[0mprompt\u001b[0m\u001b[0;34m=\u001b[0m\u001b[0;34m''\u001b[0m\u001b[0;34m:\u001b[0m \u001b[0meval\u001b[0m\u001b[0;34m(\u001b[0m\u001b[0mraw_input\u001b[0m\u001b[0;34m(\u001b[0m\u001b[0mprompt\u001b[0m\u001b[0;34m)\u001b[0m\u001b[0;34m)\u001b[0m\u001b[0;34m\u001b[0m\u001b[0m\n\u001b[0m\u001b[1;32m    365\u001b[0m         \u001b[0;32melse\u001b[0m\u001b[0;34m:\u001b[0m\u001b[0;34m\u001b[0m\u001b[0m\n\u001b[1;32m    366\u001b[0m             \u001b[0mraw_input\u001b[0m \u001b[0;34m=\u001b[0m \u001b[0minput\u001b[0m \u001b[0;34m=\u001b[0m \u001b[0;32mlambda\u001b[0m \u001b[0mprompt\u001b[0m\u001b[0;34m=\u001b[0m\u001b[0;34m''\u001b[0m \u001b[0;34m:\u001b[0m \u001b[0mself\u001b[0m\u001b[0;34m.\u001b[0m\u001b[0m_no_raw_input\u001b[0m\u001b[0;34m(\u001b[0m\u001b[0;34m)\u001b[0m\u001b[0;34m\u001b[0m\u001b[0m\n",
        "\u001b[0;32m/usr/lib/python2.7/dist-packages/IPython/kernel/zmq/ipkernel.pyc\u001b[0m in \u001b[0;36m<module>\u001b[0;34m()\u001b[0m\n",
        "\u001b[0;31mNameError\u001b[0m: name 'jam' is not defined"
       ]
      }
     ],
     "prompt_number": 42
    },
    {
     "cell_type": "code",
     "collapsed": false,
     "input": [],
     "language": "python",
     "metadata": {},
     "outputs": []
    }
   ],
   "metadata": {}
  }
 ]
}